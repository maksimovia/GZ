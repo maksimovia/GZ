{
 "cells": [
  {
   "cell_type": "code",
   "execution_count": 1,
   "id": "4d9b4cec",
   "metadata": {
    "scrolled": true
   },
   "outputs": [
    {
     "name": "stdout",
     "output_type": "stream",
     "text": [
      "all results:\n",
      "[{'Initial_parameters': {'Tair': -29, 'n_GTU': 1}, 'GTU': 165.66, 'GTU_KPD': 34.0758, 'Turbine': 55.2243, 'KN': 0.2456, 'DK': 6.3014, 'PEN': 1.1028, 'Turbine_Qt': 117.0378, 'ASW_Qt': 0.0}, {'Initial_parameters': {'Tair': -15, 'n_GTU': 1}, 'GTU': 165.66, 'GTU_KPD': 34.0948, 'Turbine': 59.1057, 'KN': 0.2252, 'DK': 6.3014, 'PEN': 0.8018, 'Turbine_Qt': 124.3114, 'ASW_Qt': 0.0}, {'Initial_parameters': {'Tair': 0, 'n_GTU': 1}, 'GTU': 164.3046, 'GTU_KPD': 34.0121, 'Turbine': 65.1735, 'KN': 0.2447, 'DK': 6.2985, 'PEN': 0.7066, 'Turbine_Qt': 122.7395, 'ASW_Qt': 0.0}, {'Initial_parameters': {'Tair': 8, 'n_GTU': 1}, 'GTU': 157.0758, 'GTU_KPD': 33.7012, 'Turbine': 64.4895, 'KN': 0.2405, 'DK': 6.2832, 'PEN': 0.6939, 'Turbine_Qt': 121.6299, 'ASW_Qt': 0.0}, {'Initial_parameters': {'Tair': 15, 'n_GTU': 1}, 'GTU': 150.7506, 'GTU_KPD': 33.3481, 'Turbine': 63.7206, 'KN': 0.2374, 'DK': 6.2697, 'PEN': 0.7698, 'Turbine_Qt': 119.7942, 'ASW_Qt': 0.0}]\n"
     ]
    }
   ],
   "source": [
    "import ASWtestmultiprocess as test\n",
    "from multiprocessing import Pool\n",
    "if __name__ == \"__main__\":\n",
    "\n",
    "    # t_air_list = [-29,-15,-10,-1.1,0,8,15] # - температуры, при которых необходимо расчитать\n",
    "    t_air_list = [-29,-15,0,8,15] # - температуры, при которых необходимо расчитать\n",
    "    s=len(t_air_list)\n",
    "    nagr_list = [1]\n",
    "    sn= len(nagr_list)\n",
    "  \n",
    "    chunks = [(10, # Diametr - диаметр аккумулятора\n",
    "              2,  # kolichestvo -  количество баков аккумуляторов\n",
    "              20, # Visota - высота аккумулятора\n",
    "              0.045, # - lambda_min_vata теплопроводность изолятора бака аккумулятора\n",
    "              0.01,# - delta_min_vata толщина изолятора бака аккумулятора\n",
    "              2, # ASWbul - 1- загрузка аккумулятора, 2- разгрузка аккумулятора\n",
    "              nagr_list[j], # nagr - доля нагрузки от номинала\n",
    "              4, # vremya - время зарядки/разрядки аккумулятора\n",
    "              12, # vremyaojidaniya - время ожидания аккумулятора\n",
    "              t_air_list[i]) for i in range(s) for j in range(sn)]\n",
    "    pool = Pool(processes = sn*s)\n",
    "    all_results = pool.map(test.test, chunks)\n"
   ]
  },
  {
   "cell_type": "code",
   "execution_count": 2,
   "id": "49025b61-a7c7-4d39-89bc-f1fa19005aea",
   "metadata": {},
   "outputs": [
    {
     "data": {
      "text/plain": [
       "[{'Initial_parameters': {'Tair': -29, 'n_GTU': 1},\n",
       "  'GTU': 165.66,\n",
       "  'GTU_KPD': 34.0758,\n",
       "  'Turbine': 55.2243,\n",
       "  'KN': 0.2456,\n",
       "  'DK': 6.3014,\n",
       "  'PEN': 1.1028,\n",
       "  'Turbine_Qt': 117.0378,\n",
       "  'ASW_Qt': 0.0},\n",
       " {'Initial_parameters': {'Tair': -15, 'n_GTU': 1},\n",
       "  'GTU': 165.66,\n",
       "  'GTU_KPD': 34.0948,\n",
       "  'Turbine': 59.1057,\n",
       "  'KN': 0.2252,\n",
       "  'DK': 6.3014,\n",
       "  'PEN': 0.8018,\n",
       "  'Turbine_Qt': 124.3114,\n",
       "  'ASW_Qt': 0.0},\n",
       " {'Initial_parameters': {'Tair': 0, 'n_GTU': 1},\n",
       "  'GTU': 164.3046,\n",
       "  'GTU_KPD': 34.0121,\n",
       "  'Turbine': 65.1735,\n",
       "  'KN': 0.2447,\n",
       "  'DK': 6.2985,\n",
       "  'PEN': 0.7066,\n",
       "  'Turbine_Qt': 122.7395,\n",
       "  'ASW_Qt': 0.0},\n",
       " {'Initial_parameters': {'Tair': 8, 'n_GTU': 1},\n",
       "  'GTU': 157.0758,\n",
       "  'GTU_KPD': 33.7012,\n",
       "  'Turbine': 64.4895,\n",
       "  'KN': 0.2405,\n",
       "  'DK': 6.2832,\n",
       "  'PEN': 0.6939,\n",
       "  'Turbine_Qt': 121.6299,\n",
       "  'ASW_Qt': 0.0},\n",
       " {'Initial_parameters': {'Tair': 15, 'n_GTU': 1},\n",
       "  'GTU': 150.7506,\n",
       "  'GTU_KPD': 33.3481,\n",
       "  'Turbine': 63.7206,\n",
       "  'KN': 0.2374,\n",
       "  'DK': 6.2697,\n",
       "  'PEN': 0.7698,\n",
       "  'Turbine_Qt': 119.7942,\n",
       "  'ASW_Qt': 0.0}]"
      ]
     },
     "execution_count": 2,
     "metadata": {},
     "output_type": "execute_result"
    }
   ],
   "source": [
    "all_results"
   ]
  },
  {
   "cell_type": "code",
   "execution_count": 3,
   "id": "5b2abbc9",
   "metadata": {},
   "outputs": [],
   "source": [
    "# import ASWtestmultiprocess as test\n",
    "# from multiprocessing import Pool\n",
    "# import name\n",
    "\n",
    "\n",
    "# if __name__ == '__main__':\n",
    "#     name.Diametr= 2\n",
    "#     name.kolichestvo = 10\n",
    "#     name.Visota = 10\n",
    "#     name.lambda_min_vata = 0.045\n",
    "#     name.delta_min_vata = 0.01\n",
    "#     name.ASWbul = 2\n",
    "#     name.n = 0.9\n",
    "#     name.vremya = 4\n",
    "\n",
    "#     with Pool(5) as p:\n",
    "#         print(p.map(test.test, [0, -23, 15,2,5]))"
   ]
  },
  {
   "cell_type": "code",
   "execution_count": 4,
   "id": "b9bccaf8",
   "metadata": {},
   "outputs": [],
   "source": [
    "# import name\n",
    "# from multiprocessing import Pool\n",
    "# # name.n = 3\n",
    "# # name.testconst(1)\n",
    "\n",
    "# if __name__ == '__main__':\n",
    "#     with Pool(5) as p:\n",
    "#         name.testconst.n = 5\n",
    "#         print(p.map(name.testconst, [0, -23, 15,2,5]))"
   ]
  },
  {
   "cell_type": "code",
   "execution_count": 5,
   "id": "cd8fe72b",
   "metadata": {},
   "outputs": [],
   "source": [
    "# import name\n",
    "# from multiprocessing import Pool\n",
    "# if __name__ == \"__main__\":\n",
    "#     nagr = 1\n",
    "#     ASW = \"Зарядка\"\n",
    "\n",
    "#     t_air_list = [0,15,-23]\n",
    "  \n",
    "#     chunks = [(nagr, ASW, t_air_list[i]) for i in range(4)]\n",
    "#     pool = Pool(processes=4)\n",
    "\n",
    "#     all_results = pool.map(name.func, chunks)\n",
    "\n",
    "#     print('all results:', all_results)"
   ]
  },
  {
   "cell_type": "code",
   "execution_count": 6,
   "id": "4bba884e",
   "metadata": {},
   "outputs": [],
   "source": [
    "# t_air_list = []\n",
    "# for i in range(40):\n",
    "#     t_air_list.append(i-25)\n",
    "# print(t_air_list)    "
   ]
  },
  {
   "cell_type": "code",
   "execution_count": 7,
   "id": "91a0cf8d",
   "metadata": {},
   "outputs": [
    {
     "ename": "SyntaxError",
     "evalue": "invalid syntax. Maybe you meant '==' or ':=' instead of '='? (2078257055.py, line 5)",
     "output_type": "error",
     "traceback": [
      "\u001b[1;36m  Cell \u001b[1;32mIn [7], line 5\u001b[1;36m\u001b[0m\n\u001b[1;33m    chunks = [(Diametr = 2, # диаметр аккумулятора\u001b[0m\n\u001b[1;37m               ^\u001b[0m\n\u001b[1;31mSyntaxError\u001b[0m\u001b[1;31m:\u001b[0m invalid syntax. Maybe you meant '==' or ':=' instead of '='?\n"
     ]
    }
   ],
   "source": [
    "# t_air_list = [0,15,-23]\n",
    "# s=len(t_air_list)\n",
    "# s\n",
    "\n",
    "chunks = [(Diametr = 2, # диаметр аккумулятора\n",
    "               kolichestvo = 10,  # количество баков аккумуляторов\n",
    "               Visota = 10, # высота аккумулятора\n",
    "               lambda_min_vata=0.045, # теплопроводность изолятора бака аккумулятора\n",
    "               delta_min_vata=0.01,# толщина изолятора бака аккумулятора\n",
    "               ASWbul=2, #1- загрузка аккумулятора, 2- разгрузка аккумулятора\n",
    "               nagr=0.9, # доля нагрузки от номинала\n",
    "               vremya=4, # время зарядки/разрядки аккумулятора\n",
    "               t_air_list[i]) for i in range(s)]"
   ]
  },
  {
   "cell_type": "code",
   "execution_count": null,
   "id": "0cfa4453",
   "metadata": {},
   "outputs": [],
   "source": [
    "if __name__ == \"__main__\":\n",
    "\n",
    "    t_air_list = [0,15,-23] # - температуры, при которых необходимо расчитать\n",
    "    s=len(t_air_list)\n",
    "    nagr_list = [0.9,0.95,-23]\n",
    "  \n",
    "    chunks = [(2, # Diametr - диаметр аккумулятора\n",
    "              10,  # kolichestvo -  количество баков аккумуляторов\n",
    "              10, # Visota - высота аккумулятора\n",
    "              0.045, # - lambda_min_vata теплопроводность изолятора бака аккумулятора\n",
    "              0.01,# - delta_min_vata толщина изолятора бака аккумулятора\n",
    "              2, # ASWbul - 1- загрузка аккумулятора, 2- разгрузка аккумулятора\n",
    "              nagr_list[j], # nagr - доля нагрузки от номинала\n",
    "              4, # vremya - время зарядки/разрядки аккумулятора\n",
    "              t_air_list[i]) for i in range(s) for j in range(s)]\n",
    "    print(chunks)"
   ]
  },
  {
   "cell_type": "code",
   "execution_count": null,
   "id": "01bde24c",
   "metadata": {},
   "outputs": [],
   "source": [
    "if __name__ == \"__main__\":\n",
    "\n",
    "    t_air_list = [0,15,-23] # - температуры, при которых необходимо расчитать\n",
    "    s=len(t_air_list)\n",
    "    nagr_list = [0.9,0.95,-23]\n",
    "  \n",
    "    chunks = [(2, # Diametr - диаметр аккумулятора\n",
    "              10,  # kolichestvo -  количество баков аккумуляторов\n",
    "              10, # Visota - высота аккумулятора\n",
    "              0.045, # - lambda_min_vata теплопроводность изолятора бака аккумулятора\n",
    "              0.01,# - delta_min_vata толщина изолятора бака аккумулятора\n",
    "              2, # ASWbul - 1- загрузка аккумулятора, 2- разгрузка аккумулятора\n",
    "              0.9, # nagr - доля нагрузки от номинала\n",
    "              4, # vremya - время зарядки/разрядки аккумулятора\n",
    "              t_air_list[i]) for i in range(s)]\n",
    "    print(chunks)"
   ]
  },
  {
   "cell_type": "code",
   "execution_count": null,
   "id": "cc0b286e",
   "metadata": {},
   "outputs": [],
   "source": []
  }
 ],
 "metadata": {
  "kernelspec": {
   "display_name": "Python 3 (ipykernel)",
   "language": "python",
   "name": "python3"
  },
  "language_info": {
   "codemirror_mode": {
    "name": "ipython",
    "version": 3
   },
   "file_extension": ".py",
   "mimetype": "text/x-python",
   "name": "python",
   "nbconvert_exporter": "python",
   "pygments_lexer": "ipython3",
   "version": "3.10.6"
  }
 },
 "nbformat": 4,
 "nbformat_minor": 5
}
