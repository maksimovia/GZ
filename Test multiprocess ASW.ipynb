{
 "cells": [
  {
   "cell_type": "code",
   "execution_count": 1,
   "id": "4d9b4cec",
   "metadata": {
    "scrolled": true
   },
   "outputs": [],
   "source": [
    "from multiprocessing import Pool\n",
    "\n",
    "import ASWtestmultiprocess as test\n",
    "\n",
    "if __name__ == \"__main__\":\n",
    "\n",
    "    # t_air_list = [-29,-15,-10,-1.1,0,8,15] # - температуры, при которых необходимо расчитать\n",
    "    # - температуры, при которых необходимо расчитать\n",
    "    t_air_list = [-29, -15, 0, 8, 15]\n",
    "    s = len(t_air_list)\n",
    "    nagr_list = [1]\n",
    "    sn = len(nagr_list)\n",
    "\n",
    "    chunks = [\n",
    "        (\n",
    "            10,  # Diametr - диаметр аккумулятора\n",
    "            2,  # kolichestvo -  количество баков аккумуляторов\n",
    "            10,  # Visota - высота аккумулятора\n",
    "            0.045,  # - lambda_min_vata теплопроводность изолятора бака аккумулятора\n",
    "            0.01,  # - delta_min_vata толщина изолятора бака аккумулятора\n",
    "            2,  # ASWbul - 1- загрузка аккумулятора, 2- разгрузка аккумулятора\n",
    "            nagr_list[j],  # nagr - доля нагрузки от номинала\n",
    "            4,  # vremya - время зарядки/разрядки аккумулятора\n",
    "            12,  # vremyaojidaniya - время ожидания аккумулятора\n",
    "            t_air_list[i],\n",
    "        )\n",
    "        for i in range(s)\n",
    "        for j in range(sn)\n",
    "    ]\n",
    "    pool = Pool(processes=sn * s)\n",
    "    all_results = pool.map(test.test, chunks)"
   ]
  },
  {
   "cell_type": "code",
   "execution_count": 2,
   "id": "49025b61-a7c7-4d39-89bc-f1fa19005aea",
   "metadata": {},
   "outputs": [
    {
     "data": {
      "text/plain": [
       "[{'Initial_parameters': {'Tair': -29, 'n_GTU': 1},\n",
       "  'GTU': 165.66,\n",
       "  'GTU_KPD': 34.0758,\n",
       "  'Turbine': 51.2508,\n",
       "  'KN': 0.1673,\n",
       "  'DK': 6.3014,\n",
       "  'PEN': 1.1023,\n",
       "  'Turbine_Qt': 137.3372,\n",
       "  'ASW_Qt': 0.0,\n",
       "  'Delta_P_Diafragma': 0.1303},\n",
       " {'Initial_parameters': {'Tair': -15, 'n_GTU': 1},\n",
       "  'GTU': 165.66,\n",
       "  'GTU_KPD': 34.0948,\n",
       "  'Turbine': 55.2031,\n",
       "  'KN': 0.1423,\n",
       "  'DK': 6.3014,\n",
       "  'PEN': 0.8009,\n",
       "  'Turbine_Qt': 146.4871,\n",
       "  'ASW_Qt': 0.0,\n",
       "  'Delta_P_Diafragma': 0.0758},\n",
       " {'Initial_parameters': {'Tair': 0, 'n_GTU': 1},\n",
       "  'GTU': 164.3046,\n",
       "  'GTU_KPD': 34.0121,\n",
       "  'Turbine': 61.3123,\n",
       "  'KN': 0.1592,\n",
       "  'DK': 6.2985,\n",
       "  'PEN': 0.7069,\n",
       "  'Turbine_Qt': 145.3599,\n",
       "  'ASW_Qt': 0.0,\n",
       "  'Delta_P_Diafragma': 0.004},\n",
       " {'Initial_parameters': {'Tair': 8, 'n_GTU': 1},\n",
       "  'GTU': 157.0758,\n",
       "  'GTU_KPD': 33.7012,\n",
       "  'Turbine': 60.6376,\n",
       "  'KN': 0.1564,\n",
       "  'DK': 6.2832,\n",
       "  'PEN': 0.6942,\n",
       "  'Turbine_Qt': 144.3568,\n",
       "  'ASW_Qt': 0.0,\n",
       "  'Delta_P_Diafragma': 0.0},\n",
       " {'Initial_parameters': {'Tair': 15, 'n_GTU': 1},\n",
       "  'GTU': 150.7506,\n",
       "  'GTU_KPD': 33.3481,\n",
       "  'Turbine': 60.055,\n",
       "  'KN': 0.1542,\n",
       "  'DK': 6.2697,\n",
       "  'PEN': 0.7706,\n",
       "  'Turbine_Qt': 142.2505,\n",
       "  'ASW_Qt': 0.0,\n",
       "  'Delta_P_Diafragma': 0.0}]"
      ]
     },
     "execution_count": 2,
     "metadata": {},
     "output_type": "execute_result"
    }
   ],
   "source": [
    "all_results"
   ]
  },
  {
   "cell_type": "code",
   "execution_count": 3,
   "id": "5b2abbc9",
   "metadata": {},
   "outputs": [],
   "source": [
    "# import ASWtestmultiprocess as test\n",
    "# from multiprocessing import Pool\n",
    "# import name\n",
    "\n",
    "\n",
    "# if __name__ == '__main__':\n",
    "#     name.Diametr= 2\n",
    "#     name.kolichestvo = 10\n",
    "#     name.Visota = 10\n",
    "#     name.lambda_min_vata = 0.045\n",
    "#     name.delta_min_vata = 0.01\n",
    "#     name.ASWbul = 2\n",
    "#     name.n = 0.9\n",
    "#     name.vremya = 4\n",
    "\n",
    "#     with Pool(5) as p:\n",
    "#         print(p.map(test.test, [0, -23, 15,2,5]))"
   ]
  },
  {
   "cell_type": "code",
   "execution_count": 4,
   "id": "b9bccaf8",
   "metadata": {},
   "outputs": [],
   "source": [
    "# import name\n",
    "# from multiprocessing import Pool\n",
    "# # name.n = 3\n",
    "# # name.testconst(1)\n",
    "\n",
    "# if __name__ == '__main__':\n",
    "#     with Pool(5) as p:\n",
    "#         name.testconst.n = 5\n",
    "#         print(p.map(name.testconst, [0, -23, 15,2,5]))"
   ]
  },
  {
   "cell_type": "code",
   "execution_count": 5,
   "id": "cd8fe72b",
   "metadata": {},
   "outputs": [],
   "source": [
    "# import name\n",
    "# from multiprocessing import Pool\n",
    "# if __name__ == \"__main__\":\n",
    "#     nagr = 1\n",
    "#     ASW = \"Зарядка\"\n",
    "\n",
    "#     t_air_list = [0,15,-23]\n",
    "\n",
    "#     chunks = [(nagr, ASW, t_air_list[i]) for i in range(4)]\n",
    "#     pool = Pool(processes=4)\n",
    "\n",
    "#     all_results = pool.map(name.func, chunks)\n",
    "\n",
    "#     print('all results:', all_results)"
   ]
  },
  {
   "cell_type": "code",
   "execution_count": 6,
   "id": "4bba884e",
   "metadata": {},
   "outputs": [],
   "source": [
    "# t_air_list = []\n",
    "# for i in range(40):\n",
    "#     t_air_list.append(i-25)\n",
    "# print(t_air_list)"
   ]
  },
  {
   "cell_type": "code",
   "execution_count": 7,
   "id": "91a0cf8d",
   "metadata": {},
   "outputs": [
    {
     "ename": "SyntaxError",
     "evalue": "invalid syntax. Maybe you meant '==' or ':=' instead of '='? (3130075334.py, line 5)",
     "output_type": "error",
     "traceback": [
      "\u001b[1;36m  Cell \u001b[1;32mIn [7], line 5\u001b[1;36m\u001b[0m\n\u001b[1;33m    chunks = [(Diametr=2,  # диаметр аккумулятора\u001b[0m\n\u001b[1;37m               ^\u001b[0m\n\u001b[1;31mSyntaxError\u001b[0m\u001b[1;31m:\u001b[0m invalid syntax. Maybe you meant '==' or ':=' instead of '='?\n"
     ]
    }
   ],
   "source": [
    "# t_air_list = [0,15,-23]\n",
    "# s=len(t_air_list)\n",
    "# s\n",
    "\n",
    "chunks = [(Diametr=2,  # диаметр аккумулятора\n",
    "           kolichestvo=10,  # количество баков аккумуляторов\n",
    "           Visota=10,  # высота аккумулятора\n",
    "           lambda_min_vata=0.045,  # теплопроводность изолятора бака аккумулятора\n",
    "           delta_min_vata=0.01,  # толщина изолятора бака аккумулятора\n",
    "           ASWbul=2,  # 1- загрузка аккумулятора, 2- разгрузка аккумулятора\n",
    "           nagr=0.9,  # доля нагрузки от номинала\n",
    "           vremya=4,  # время зарядки/разрядки аккумулятора\n",
    "           t_air_list[i]) for i in range(s)]"
   ]
  },
  {
   "cell_type": "code",
   "execution_count": null,
   "id": "0cfa4453",
   "metadata": {},
   "outputs": [],
   "source": [
    "if __name__ == \"__main__\":\n",
    "\n",
    "    # - температуры, при которых необходимо расчитать\n",
    "    t_air_list = [0, 15, -23]\n",
    "    s = len(t_air_list)\n",
    "    nagr_list = [0.9, 0.95, -23]\n",
    "\n",
    "    chunks = [\n",
    "        (\n",
    "            2,  # Diametr - диаметр аккумулятора\n",
    "            10,  # kolichestvo -  количество баков аккумуляторов\n",
    "            10,  # Visota - высота аккумулятора\n",
    "            0.045,  # - lambda_min_vata теплопроводность изолятора бака аккумулятора\n",
    "            0.01,  # - delta_min_vata толщина изолятора бака аккумулятора\n",
    "            2,  # ASWbul - 1- загрузка аккумулятора, 2- разгрузка аккумулятора\n",
    "            nagr_list[j],  # nagr - доля нагрузки от номинала\n",
    "            4,  # vremya - время зарядки/разрядки аккумулятора\n",
    "            t_air_list[i],\n",
    "        )\n",
    "        for i in range(s)\n",
    "        for j in range(s)\n",
    "    ]\n",
    "    print(chunks)"
   ]
  },
  {
   "cell_type": "code",
   "execution_count": null,
   "id": "01bde24c",
   "metadata": {},
   "outputs": [],
   "source": [
    "if __name__ == \"__main__\":\n",
    "\n",
    "    # - температуры, при которых необходимо расчитать\n",
    "    t_air_list = [0, 15, -23]\n",
    "    s = len(t_air_list)\n",
    "    nagr_list = [0.9, 0.95, -23]\n",
    "\n",
    "    chunks = [\n",
    "        (\n",
    "            2,  # Diametr - диаметр аккумулятора\n",
    "            10,  # kolichestvo -  количество баков аккумуляторов\n",
    "            10,  # Visota - высота аккумулятора\n",
    "            0.045,  # - lambda_min_vata теплопроводность изолятора бака аккумулятора\n",
    "            0.01,  # - delta_min_vata толщина изолятора бака аккумулятора\n",
    "            2,  # ASWbul - 1- загрузка аккумулятора, 2- разгрузка аккумулятора\n",
    "            0.9,  # nagr - доля нагрузки от номинала\n",
    "            4,  # vremya - время зарядки/разрядки аккумулятора\n",
    "            t_air_list[i],\n",
    "        )\n",
    "        for i in range(s)\n",
    "    ]\n",
    "    print(chunks)"
   ]
  },
  {
   "cell_type": "code",
   "execution_count": null,
   "id": "cc0b286e",
   "metadata": {},
   "outputs": [],
   "source": []
  }
 ],
 "metadata": {
  "kernelspec": {
   "display_name": "Python 3 (ipykernel)",
   "language": "python",
   "name": "python3"
  },
  "language_info": {
   "codemirror_mode": {
    "name": "ipython",
    "version": 3
   },
   "file_extension": ".py",
   "mimetype": "text/x-python",
   "name": "python",
   "nbconvert_exporter": "python",
   "pygments_lexer": "ipython3",
   "version": "3.10.6"
  }
 },
 "nbformat": 4,
 "nbformat_minor": 5
}
