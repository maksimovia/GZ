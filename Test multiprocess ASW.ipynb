{
 "cells": [
  {
   "cell_type": "code",
   "execution_count": 1,
   "id": "4d9b4cec",
   "metadata": {
    "scrolled": true
   },
   "outputs": [
    {
     "ename": "TypeError",
     "evalue": "'_AtIndexer' object is not callable",
     "output_type": "error",
     "traceback": [
      "\u001b[1;31m---------------------------------------------------------------------------\u001b[0m",
      "\u001b[1;31mRemoteTraceback\u001b[0m                           Traceback (most recent call last)",
      "\u001b[1;31mRemoteTraceback\u001b[0m: \n\"\"\"\nTraceback (most recent call last):\n  File \"C:\\ProgramData\\Anaconda3\\lib\\multiprocessing\\pool.py\", line 125, in worker\n    result = (True, func(*args, **kwds))\n  File \"C:\\ProgramData\\Anaconda3\\lib\\multiprocessing\\pool.py\", line 48, in mapstar\n    return list(map(*args))\n  File \"C:\\Users\\OparinMV\\Documents\\GitHub\\GZ\\ASWtestmultiprocess.py\", line 245, in test\n    return {'GTU':electric.at(\"GTU\",\"N\"), \"Turbine\":electric.at(\"Turbine\",\"Ni\"),\"KN\":electric.at(\"KN\",\"Ni\"),\"DK\":electric.at(\"DK\",\"N\"),\"PEN\":electric.at(\"PEN\",\"Ni\")}\nTypeError: '_AtIndexer' object is not callable\n\"\"\"",
      "\nThe above exception was the direct cause of the following exception:\n",
      "\u001b[1;31mTypeError\u001b[0m                                 Traceback (most recent call last)",
      "Input \u001b[1;32mIn [1]\u001b[0m, in \u001b[0;36m<cell line: 3>\u001b[1;34m()\u001b[0m\n\u001b[0;32m     10\u001b[0m chunks \u001b[38;5;241m=\u001b[39m [(\u001b[38;5;241m10\u001b[39m, \u001b[38;5;66;03m# Diametr - диаметр аккумулятора\u001b[39;00m\n\u001b[0;32m     11\u001b[0m           \u001b[38;5;241m2\u001b[39m,  \u001b[38;5;66;03m# kolichestvo -  количество баков аккумуляторов\u001b[39;00m\n\u001b[0;32m     12\u001b[0m           \u001b[38;5;241m20\u001b[39m, \u001b[38;5;66;03m# Visota - высота аккумулятора\u001b[39;00m\n\u001b[1;32m   (...)\u001b[0m\n\u001b[0;32m     18\u001b[0m           \u001b[38;5;241m12\u001b[39m, \u001b[38;5;66;03m# vremyaojidaniya - время ожидания аккумулятора\u001b[39;00m\n\u001b[0;32m     19\u001b[0m           t_air_list[i]) \u001b[38;5;28;01mfor\u001b[39;00m i \u001b[38;5;129;01min\u001b[39;00m \u001b[38;5;28mrange\u001b[39m(s) \u001b[38;5;28;01mfor\u001b[39;00m j \u001b[38;5;129;01min\u001b[39;00m \u001b[38;5;28mrange\u001b[39m(sn)]\n\u001b[0;32m     20\u001b[0m pool \u001b[38;5;241m=\u001b[39m Pool(processes \u001b[38;5;241m=\u001b[39m sn\u001b[38;5;241m*\u001b[39ms)\n\u001b[1;32m---> 21\u001b[0m all_results \u001b[38;5;241m=\u001b[39m \u001b[43mpool\u001b[49m\u001b[38;5;241;43m.\u001b[39;49m\u001b[43mmap\u001b[49m\u001b[43m(\u001b[49m\u001b[43mtest\u001b[49m\u001b[38;5;241;43m.\u001b[39;49m\u001b[43mtest\u001b[49m\u001b[43m,\u001b[49m\u001b[43m \u001b[49m\u001b[43mchunks\u001b[49m\u001b[43m)\u001b[49m\n\u001b[0;32m     22\u001b[0m \u001b[38;5;28mprint\u001b[39m(\u001b[38;5;124m'\u001b[39m\u001b[38;5;124mall results:\u001b[39m\u001b[38;5;124m'\u001b[39m)\n\u001b[0;32m     23\u001b[0m \u001b[38;5;28mprint\u001b[39m(all_results)\n",
      "File \u001b[1;32mC:\\ProgramData\\Anaconda3\\lib\\multiprocessing\\pool.py:364\u001b[0m, in \u001b[0;36mPool.map\u001b[1;34m(self, func, iterable, chunksize)\u001b[0m\n\u001b[0;32m    359\u001b[0m \u001b[38;5;28;01mdef\u001b[39;00m \u001b[38;5;21mmap\u001b[39m(\u001b[38;5;28mself\u001b[39m, func, iterable, chunksize\u001b[38;5;241m=\u001b[39m\u001b[38;5;28;01mNone\u001b[39;00m):\n\u001b[0;32m    360\u001b[0m     \u001b[38;5;124;03m'''\u001b[39;00m\n\u001b[0;32m    361\u001b[0m \u001b[38;5;124;03m    Apply `func` to each element in `iterable`, collecting the results\u001b[39;00m\n\u001b[0;32m    362\u001b[0m \u001b[38;5;124;03m    in a list that is returned.\u001b[39;00m\n\u001b[0;32m    363\u001b[0m \u001b[38;5;124;03m    '''\u001b[39;00m\n\u001b[1;32m--> 364\u001b[0m     \u001b[38;5;28;01mreturn\u001b[39;00m \u001b[38;5;28;43mself\u001b[39;49m\u001b[38;5;241;43m.\u001b[39;49m\u001b[43m_map_async\u001b[49m\u001b[43m(\u001b[49m\u001b[43mfunc\u001b[49m\u001b[43m,\u001b[49m\u001b[43m \u001b[49m\u001b[43miterable\u001b[49m\u001b[43m,\u001b[49m\u001b[43m \u001b[49m\u001b[43mmapstar\u001b[49m\u001b[43m,\u001b[49m\u001b[43m \u001b[49m\u001b[43mchunksize\u001b[49m\u001b[43m)\u001b[49m\u001b[38;5;241;43m.\u001b[39;49m\u001b[43mget\u001b[49m\u001b[43m(\u001b[49m\u001b[43m)\u001b[49m\n",
      "File \u001b[1;32mC:\\ProgramData\\Anaconda3\\lib\\multiprocessing\\pool.py:771\u001b[0m, in \u001b[0;36mApplyResult.get\u001b[1;34m(self, timeout)\u001b[0m\n\u001b[0;32m    769\u001b[0m     \u001b[38;5;28;01mreturn\u001b[39;00m \u001b[38;5;28mself\u001b[39m\u001b[38;5;241m.\u001b[39m_value\n\u001b[0;32m    770\u001b[0m \u001b[38;5;28;01melse\u001b[39;00m:\n\u001b[1;32m--> 771\u001b[0m     \u001b[38;5;28;01mraise\u001b[39;00m \u001b[38;5;28mself\u001b[39m\u001b[38;5;241m.\u001b[39m_value\n",
      "\u001b[1;31mTypeError\u001b[0m: '_AtIndexer' object is not callable"
     ]
    }
   ],
   "source": [
    "import ASWtestmultiprocess as test\n",
    "from multiprocessing import Pool\n",
    "if __name__ == \"__main__\":\n",
    "\n",
    "    t_air_list = [-29,-15,-10,-1.1,0,8,15] # - температуры, при которых необходимо расчитать\n",
    "    s=len(t_air_list)\n",
    "    nagr_list = [1]\n",
    "    sn= len(nagr_list)\n",
    "  \n",
    "    chunks = [(10, # Diametr - диаметр аккумулятора\n",
    "              2,  # kolichestvo -  количество баков аккумуляторов\n",
    "              20, # Visota - высота аккумулятора\n",
    "              0.045, # - lambda_min_vata теплопроводность изолятора бака аккумулятора\n",
    "              0.01,# - delta_min_vata толщина изолятора бака аккумулятора\n",
    "              2, # ASWbul - 1- загрузка аккумулятора, 2- разгрузка аккумулятора\n",
    "              nagr_list[j], # nagr - доля нагрузки от номинала\n",
    "              4, # vremya - время зарядки/разрядки аккумулятора\n",
    "              12, # vremyaojidaniya - время ожидания аккумулятора\n",
    "              t_air_list[i]) for i in range(s) for j in range(sn)]\n",
    "    pool = Pool(processes = sn*s)\n",
    "    all_results = pool.map(test.test, chunks)\n",
    "    print('all results:')\n",
    "    print(all_results)"
   ]
  },
  {
   "cell_type": "code",
   "execution_count": null,
   "id": "5b2abbc9",
   "metadata": {},
   "outputs": [],
   "source": [
    "# import ASWtestmultiprocess as test\n",
    "# from multiprocessing import Pool\n",
    "# import name\n",
    "\n",
    "\n",
    "# if __name__ == '__main__':\n",
    "#     name.Diametr= 2\n",
    "#     name.kolichestvo = 10\n",
    "#     name.Visota = 10\n",
    "#     name.lambda_min_vata = 0.045\n",
    "#     name.delta_min_vata = 0.01\n",
    "#     name.ASWbul = 2\n",
    "#     name.n = 0.9\n",
    "#     name.vremya = 4\n",
    "\n",
    "#     with Pool(5) as p:\n",
    "#         print(p.map(test.test, [0, -23, 15,2,5]))"
   ]
  },
  {
   "cell_type": "code",
   "execution_count": null,
   "id": "b9bccaf8",
   "metadata": {},
   "outputs": [],
   "source": [
    "# import name\n",
    "# from multiprocessing import Pool\n",
    "# # name.n = 3\n",
    "# # name.testconst(1)\n",
    "\n",
    "# if __name__ == '__main__':\n",
    "#     with Pool(5) as p:\n",
    "#         name.testconst.n = 5\n",
    "#         print(p.map(name.testconst, [0, -23, 15,2,5]))"
   ]
  },
  {
   "cell_type": "code",
   "execution_count": null,
   "id": "cd8fe72b",
   "metadata": {},
   "outputs": [],
   "source": [
    "# import name\n",
    "# from multiprocessing import Pool\n",
    "# if __name__ == \"__main__\":\n",
    "#     nagr = 1\n",
    "#     ASW = \"Зарядка\"\n",
    "\n",
    "#     t_air_list = [0,15,-23]\n",
    "  \n",
    "#     chunks = [(nagr, ASW, t_air_list[i]) for i in range(4)]\n",
    "#     pool = Pool(processes=4)\n",
    "\n",
    "#     all_results = pool.map(name.func, chunks)\n",
    "\n",
    "#     print('all results:', all_results)"
   ]
  },
  {
   "cell_type": "code",
   "execution_count": null,
   "id": "4bba884e",
   "metadata": {},
   "outputs": [],
   "source": [
    "# t_air_list = []\n",
    "# for i in range(40):\n",
    "#     t_air_list.append(i-25)\n",
    "# print(t_air_list)    "
   ]
  },
  {
   "cell_type": "code",
   "execution_count": null,
   "id": "91a0cf8d",
   "metadata": {},
   "outputs": [],
   "source": [
    "# t_air_list = [0,15,-23]\n",
    "# s=len(t_air_list)\n",
    "# s\n",
    "\n",
    "chunks = [(Diametr = 2, # диаметр аккумулятора\n",
    "               kolichestvo = 10,  # количество баков аккумуляторов\n",
    "               Visota = 10, # высота аккумулятора\n",
    "               lambda_min_vata=0.045, # теплопроводность изолятора бака аккумулятора\n",
    "               delta_min_vata=0.01,# толщина изолятора бака аккумулятора\n",
    "               ASWbul=2, #1- загрузка аккумулятора, 2- разгрузка аккумулятора\n",
    "               nagr=0.9, # доля нагрузки от номинала\n",
    "               vremya=4, # время зарядки/разрядки аккумулятора\n",
    "               t_air_list[i]) for i in range(s)]"
   ]
  },
  {
   "cell_type": "code",
   "execution_count": null,
   "id": "0cfa4453",
   "metadata": {},
   "outputs": [],
   "source": [
    "if __name__ == \"__main__\":\n",
    "\n",
    "    t_air_list = [0,15,-23] # - температуры, при которых необходимо расчитать\n",
    "    s=len(t_air_list)\n",
    "    nagr_list = [0.9,0.95,-23]\n",
    "  \n",
    "    chunks = [(2, # Diametr - диаметр аккумулятора\n",
    "              10,  # kolichestvo -  количество баков аккумуляторов\n",
    "              10, # Visota - высота аккумулятора\n",
    "              0.045, # - lambda_min_vata теплопроводность изолятора бака аккумулятора\n",
    "              0.01,# - delta_min_vata толщина изолятора бака аккумулятора\n",
    "              2, # ASWbul - 1- загрузка аккумулятора, 2- разгрузка аккумулятора\n",
    "              nagr_list[j], # nagr - доля нагрузки от номинала\n",
    "              4, # vremya - время зарядки/разрядки аккумулятора\n",
    "              t_air_list[i]) for i in range(s) for j in range(s)]\n",
    "    print(chunks)"
   ]
  },
  {
   "cell_type": "code",
   "execution_count": null,
   "id": "01bde24c",
   "metadata": {},
   "outputs": [],
   "source": [
    "if __name__ == \"__main__\":\n",
    "\n",
    "    t_air_list = [0,15,-23] # - температуры, при которых необходимо расчитать\n",
    "    s=len(t_air_list)\n",
    "    nagr_list = [0.9,0.95,-23]\n",
    "  \n",
    "    chunks = [(2, # Diametr - диаметр аккумулятора\n",
    "              10,  # kolichestvo -  количество баков аккумуляторов\n",
    "              10, # Visota - высота аккумулятора\n",
    "              0.045, # - lambda_min_vata теплопроводность изолятора бака аккумулятора\n",
    "              0.01,# - delta_min_vata толщина изолятора бака аккумулятора\n",
    "              2, # ASWbul - 1- загрузка аккумулятора, 2- разгрузка аккумулятора\n",
    "              0.9, # nagr - доля нагрузки от номинала\n",
    "              4, # vremya - время зарядки/разрядки аккумулятора\n",
    "              t_air_list[i]) for i in range(s)]\n",
    "    print(chunks)"
   ]
  },
  {
   "cell_type": "code",
   "execution_count": null,
   "id": "cc0b286e",
   "metadata": {},
   "outputs": [],
   "source": []
  }
 ],
 "metadata": {
  "kernelspec": {
   "display_name": "Python 3 (ipykernel)",
   "language": "python",
   "name": "python3"
  },
  "language_info": {
   "codemirror_mode": {
    "name": "ipython",
    "version": 3
   },
   "file_extension": ".py",
   "mimetype": "text/x-python",
   "name": "python",
   "nbconvert_exporter": "python",
   "pygments_lexer": "ipython3",
   "version": "3.9.12"
  }
 },
 "nbformat": 4,
 "nbformat_minor": 5
}
