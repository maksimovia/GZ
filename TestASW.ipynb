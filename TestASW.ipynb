{
 "cells": [
  {
   "cell_type": "code",
   "execution_count": 1,
   "id": "b59f3bb5",
   "metadata": {},
   "outputs": [],
   "source": [
    "import ASW\n",
    "import mat_properties as prop\n",
    "import pandas as pd\n",
    "\n",
    "RP = prop.init_REFPROP(r\"C:\\Program Files (x86)\\REFPROP\")\n",
    "water = prop.Materials_prop(\n",
    "    \"water\",\n",
    "    [1.0, 0, 0, 0, 0],\n",
    "    prop.REFPROP_h_s,\n",
    "    prop.REFPROP_p_t,\n",
    "    prop.REFPROP_p_h,\n",
    "    prop.REFPROP_p_s,\n",
    "    prop.REFPROP_p_q,\n",
    "    prop.REFPROP_t_q,\n",
    "    prop.REFPROP_p_rho,\n",
    "    prop.REFPROP_s_q,\n",
    "    RP=RP,\n",
    ")\n",
    "\n",
    "water_streams = pd.read_excel(\"streams.xlsx\", sheet_name=\"water\", index_col=0)\n"
   ]
  },
  {
   "cell_type": "code",
   "execution_count": 2,
   "id": "0415ae7a",
   "metadata": {},
   "outputs": [
    {
     "name": "stdout",
     "output_type": "stream",
     "text": [
      "1118123.195136572 OLD Q\n",
      "377.75 OLD _h_accum\n",
      "                        T         P            H           G  \\\n",
      "AIR             15.000000       NaN          NaN         NaN   \n",
      "PEVD-DROSVD    511.500000  8.407000  3423.209978   63.400000   \n",
      "IVD-PEVD       301.297556  8.746000  2747.104023   63.400000   \n",
      "EVD-IVD        298.800000  8.746000  1337.948265   63.400000   \n",
      "PEN-EVD        166.500000  8.746000   708.319849   63.400000   \n",
      "BND-PEN        164.738361  0.696400   696.095567   63.400000   \n",
      "PPND-DROSND    211.600000  0.691000  2871.481837   14.760000   \n",
      "IND-PPND       164.738361  0.696400  2762.534980   14.760000   \n",
      "GPK-IND        164.600000  0.696400   695.493701   78.160000   \n",
      "GPK-REC        164.600000  0.696400   695.493701   82.910000   \n",
      "REC-GPK         60.000000  0.696400   251.748396   82.910000   \n",
      "SMESHOD-REC     44.200000  0.696400   185.700000   78.160000   \n",
      "GPK-RECIRC            NaN       NaN          NaN         NaN   \n",
      "GPK-BYPASS            NaN       NaN          NaN         NaN   \n",
      "X-SMESH               NaN       NaN          NaN         NaN   \n",
      "SP1-OD          74.770000  0.038227          NaN   75.875000   \n",
      "OD-GPK          49.839511  0.038227          NaN   75.875000   \n",
      "SWIN-TURB       46.000000  1.000000          NaN  800.000000   \n",
      "SWIN-OD         46.000000  1.000000          NaN  100.776731   \n",
      "OD-SP1          64.770000  1.000000          NaN  100.776731   \n",
      "OTB2-SP2       107.600000  0.132196  2622.549646   43.733333   \n",
      "SP2-SP1        106.101586  0.125587   444.928682   43.733333   \n",
      "SP1-SP2         70.294917  1.000000   294.324817  800.000000   \n",
      "SP2-WOUT        90.000000  1.000000   377.750000  800.000000   \n",
      "WIN-SP1         48.336071  1.000000   202.383128  800.000000   \n",
      "OTB1-SP1        76.000000  0.040239  2464.756017   32.141667   \n",
      "DROSVD-TURBVD  508.600000  5.199000  3414.093682   63.400000   \n",
      "ENDOFVD        195.852578  0.549000  2844.285130   63.400000   \n",
      "DROSND-TURBND  209.800000  0.400000  2859.669112   14.760000   \n",
      "SMESHEND       197.800000  0.549000  2848.521603   78.160000   \n",
      "DOOTB2         131.400000  0.254200  2724.861533   78.160000   \n",
      "DOOTB1                NaN  0.152500  2652.000000   78.160000   \n",
      "INCND                 NaN  0.152500  2652.000000   78.160000   \n",
      "INKOND          41.510000  0.001700  2338.024560   78.160000   \n",
      "KOND-KN         41.510000  0.008000   173.900000   78.160000   \n",
      "KN-GPK          41.510000  0.696400   173.900000   78.160000   \n",
      "SP2-ASW         90.000000  1.000000   377.750000    1.685500   \n",
      "ASW-OD                NaN       NaN          NaN         NaN   \n",
      "\n",
      "                                  S   X Unnamed: 7  Unnamed: 8  \n",
      "AIR                             NaN NaN        NaN         NaN  \n",
      "PEVD-DROSVD                     NaN NaN        NaN         NaN  \n",
      "IVD-PEVD                        NaN NaN        NaN         NaN  \n",
      "EVD-IVD                         NaN NaN        NaN         NaN  \n",
      "PEN-EVD                         NaN NaN        NaN         NaN  \n",
      "BND-PEN                         NaN NaN        NaN         NaN  \n",
      "PPND-DROSND                     NaN NaN        NaN         NaN  \n",
      "IND-PPND                        NaN NaN        NaN         NaN  \n",
      "GPK-IND                         NaN NaN        NaN         NaN  \n",
      "GPK-REC                         NaN NaN        NaN         NaN  \n",
      "REC-GPK                         NaN NaN        NaN         NaN  \n",
      "SMESHOD-REC                     NaN NaN        NaN         NaN  \n",
      "GPK-RECIRC                      NaN NaN        NaN         NaN  \n",
      "GPK-BYPASS                      NaN NaN        NaN         NaN  \n",
      "X-SMESH                         NaN NaN        NaN         NaN  \n",
      "SP1-OD                          NaN NaN        NaN         NaN  \n",
      "OD-GPK                          NaN NaN        NaN         NaN  \n",
      "SWIN-TURB                       NaN NaN        NaN         NaN  \n",
      "SWIN-OD                         NaN NaN        NaN         NaN  \n",
      "OD-SP1                          NaN NaN        NaN         NaN  \n",
      "OTB2-SP2                        NaN NaN        NaN         NaN  \n",
      "SP2-SP1                         NaN NaN        NaN         NaN  \n",
      "SP1-SP2        погрешность на 0.12С NaN        NaN         NaN  \n",
      "SP2-WOUT        погрешность на 8,8С NaN       было   412.67072  \n",
      "WIN-SP1         погрешность на 0.2С NaN        NaN         NaN  \n",
      "OTB1-SP1                        NaN NaN        NaN         NaN  \n",
      "DROSVD-TURBVD                   NaN NaN        NaN         NaN  \n",
      "ENDOFVD                         NaN NaN        NaN         NaN  \n",
      "DROSND-TURBND                   NaN NaN        NaN         NaN  \n",
      "SMESHEND                        NaN NaN        NaN         NaN  \n",
      "DOOTB2                          NaN NaN        NaN         NaN  \n",
      "DOOTB1                          NaN NaN        NaN         NaN  \n",
      "INCND                           NaN NaN        NaN         NaN  \n",
      "INKOND                          NaN NaN        NaN         NaN  \n",
      "KOND-KN                         NaN NaN        NaN         NaN  \n",
      "KN-GPK                          NaN NaN        NaN         NaN  \n",
      "SP2-ASW                         NaN NaN        NaN         NaN  \n",
      "ASW-OD                          NaN NaN        NaN         NaN  \n"
     ]
    }
   ],
   "source": [
    "ASW = ASW.Accum(water = water,\n",
    "                 water_streams_eto_tyt = water_streams,\n",
    "                 stream12 = \"ASW-OD\",\n",
    "                 stream11 = \"SP2-ASW\",\n",
    "                 stream_obratnoi_setevoi_vody = \"SWIN-TURB\",\n",
    "                 stream_pryamoi_setevoi_vody = \"SP2-WOUT\",\n",
    "                 T_nar_vozd = 15)\n",
    "\n",
    "ASW.set_construct(Diametr=2,\n",
    "                   kolichestvo = 2,\n",
    "                   Visota = 1,\n",
    "                   lambda_min_vata = 0.045,\n",
    "                   delta_min_vata = 0.01)\n",
    "\n",
    "ASW.zaryadka(1)\n",
    "# ASW.jdat(4)\n",
    "# ASW.razryadka(2)\n",
    "print(water_streams)\n",
    "\n"
   ]
  },
  {
   "cell_type": "code",
   "execution_count": 3,
   "id": "1fc185f5",
   "metadata": {},
   "outputs": [],
   "source": [
    "# import matplotlib.pyplot as pt\n",
    "# x  = [taulist[i] for i in range(150)]  \n",
    "# y1 = [Tlist[i] for i in (range(150))]\n",
    "\n",
    "# pt.figure(figsize=(16, 10))\n",
    "# pt.plot(x, y1)\n",
    "# pt.grid(True)\n",
    "# pt.legend(['Tемпература в баке'])\n",
    "# pt.ylabel('Температура, С')\n",
    "# pt.xlabel('Время, час')\n",
    "# pt.show()"
   ]
  },
  {
   "cell_type": "code",
   "execution_count": 4,
   "id": "28d719e6",
   "metadata": {},
   "outputs": [
    {
     "data": {
      "text/plain": [
       "75.99997373614332"
      ]
     },
     "execution_count": 4,
     "metadata": {},
     "output_type": "execute_result"
    }
   ],
   "source": [
    "water.p_h(0.0402388,2464.75607)['T']"
   ]
  },
  {
   "cell_type": "code",
   "execution_count": 5,
   "id": "128fb348",
   "metadata": {},
   "outputs": [
    {
     "data": {
      "text/plain": [
       "377.75901533255535"
      ]
     },
     "execution_count": 5,
     "metadata": {},
     "output_type": "execute_result"
    }
   ],
   "source": [
    "water.p_t(1,90)['h']"
   ]
  },
  {
   "cell_type": "code",
   "execution_count": null,
   "id": "6370d366",
   "metadata": {},
   "outputs": [],
   "source": []
  }
 ],
 "metadata": {
  "kernelspec": {
   "display_name": "Python 3 (ipykernel)",
   "language": "python",
   "name": "python3"
  },
  "language_info": {
   "codemirror_mode": {
    "name": "ipython",
    "version": 3
   },
   "file_extension": ".py",
   "mimetype": "text/x-python",
   "name": "python",
   "nbconvert_exporter": "python",
   "pygments_lexer": "ipython3",
   "version": "3.9.12"
  }
 },
 "nbformat": 4,
 "nbformat_minor": 5
}
