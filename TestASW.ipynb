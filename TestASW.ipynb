{
 "cells": [
  {
   "cell_type": "code",
   "execution_count": 1,
   "id": "b59f3bb5",
   "metadata": {},
   "outputs": [],
   "source": [
    "import ASW\n",
    "import mat_properties as prop\n",
    "import pandas as pd\n",
    "\n",
    "RP = prop.init_REFPROP(r\"C:\\Program Files (x86)\\REFPROP\")\n",
    "water = prop.Materials_prop(\n",
    "    \"water\",\n",
    "    [1.0, 0, 0, 0, 0],\n",
    "    prop.REFPROP_h_s,\n",
    "    prop.REFPROP_p_t,\n",
    "    prop.REFPROP_p_h,\n",
    "    prop.REFPROP_p_s,\n",
    "    prop.REFPROP_p_q,\n",
    "    prop.REFPROP_t_q,\n",
    "    prop.REFPROP_p_rho,\n",
    "    prop.REFPROP_s_q,\n",
    "    RP=RP,\n",
    ")\n",
    "water_streams = pd.read_excel(\"streams.xlsx\", sheet_name=\"water\", index_col=0)\n",
    "heaters = pd.read_excel(\"blocks.xlsx\", sheet_name=\"heaters\", index_col=0)"
   ]
  },
  {
   "cell_type": "code",
   "execution_count": 2,
   "id": "0415ae7a",
   "metadata": {},
   "outputs": [
    {
     "name": "stdout",
     "output_type": "stream",
     "text": [
      "                        T         P            H           G   S   X\n",
      "AIR                  15.0       NaN          NaN         NaN NaN NaN\n",
      "PEVD-DROSVD         511.5     8.407  3423.209978        63.4 NaN NaN\n",
      "IVD-PEVD       301.297556     8.746  2747.104023        63.4 NaN NaN\n",
      "EVD-IVD             298.8     8.746  1337.948265        63.4 NaN NaN\n",
      "PEN-EVD             166.5     8.746   708.319849        63.4 NaN NaN\n",
      "BND-PEN        164.738361    0.6964   696.095567        63.4 NaN NaN\n",
      "PPND-DROSND         211.6     0.691  2871.481837       14.76 NaN NaN\n",
      "IND-PPND       164.738361    0.6964   2762.53498       14.76 NaN NaN\n",
      "GPK-IND             164.6    0.6964   695.493701       78.16 NaN NaN\n",
      "GPK-REC             164.6    0.6964   695.493701       82.91 NaN NaN\n",
      "REC-GPK              60.0    0.6964   251.748396       82.91 NaN NaN\n",
      "SMESHOD-REC          44.2    0.6964        185.7       78.16 NaN NaN\n",
      "GPK-RECIRC            NaN       NaN          NaN         NaN NaN NaN\n",
      "GPK-BYPASS            NaN       NaN          NaN         NaN NaN NaN\n",
      "X-SMESH               NaN       NaN          NaN         NaN NaN NaN\n",
      "SP1-OD              74.77  0.038227          NaN      75.875 NaN NaN\n",
      "OD-GPK          49.839511  0.038227          NaN      75.875 NaN NaN\n",
      "SWIN-TURB            46.0       1.0          NaN       800.0 NaN NaN\n",
      "SWIN-OD              46.0       1.0          NaN  100.776731 NaN NaN\n",
      "OD-SP1              64.77       1.0          NaN  100.776731 NaN NaN\n",
      "OTB2-SP2            107.6  0.132196  2622.549646   43.733333 NaN NaN\n",
      "SP2-SP1        106.101586  0.125587   444.928682   43.733333 NaN NaN\n",
      "SP1-SP2         70.294917       1.0   294.324817       800.0 NaN NaN\n",
      "SP2-WOUT             90.0       1.0       377.75       800.0 NaN NaN\n",
      "WIN-SP1         48.336071       1.0   202.383128       800.0 NaN NaN\n",
      "OTB1-SP1             76.0  0.040239  2464.756017   32.141667 NaN NaN\n",
      "DROSVD-TURBVD       508.6     5.199  3414.093682        63.4 NaN NaN\n",
      "ENDOFVD        195.852578     0.549   2844.28513        63.4 NaN NaN\n",
      "DROSND-TURBND       209.8       0.4  2859.669112       14.76 NaN NaN\n",
      "SMESHEND            197.8     0.549  2848.521603       78.16 NaN NaN\n",
      "DOOTB2              131.4    0.2542  2724.861533       78.16 NaN NaN\n",
      "DOOTB1                NaN    0.1525       2652.0       78.16 NaN NaN\n",
      "INCND                 NaN    0.1525       2652.0       78.16 NaN NaN\n",
      "INKOND              41.51    0.0017   2338.02456       78.16 NaN NaN\n",
      "KOND-KN             41.51     0.008        173.9       78.16 NaN NaN\n",
      "KN-GPK              41.51    0.6964        173.9       78.16 NaN NaN\n",
      "SP2-ASW              None      None         None        None NaN NaN\n",
      "ASW-OD                NaN       NaN          NaN         NaN NaN NaN\n",
      "                 Qw  Qg  KPD\n",
      "PEVD            NaN NaN  NaN\n",
      "IVD             NaN NaN  NaN\n",
      "EVD             NaN NaN  NaN\n",
      "PPND            NaN NaN  NaN\n",
      "IND             NaN NaN  NaN\n",
      "GPK             NaN NaN  NaN\n",
      "SP2             NaN NaN  NaN\n",
      "SP1             NaN NaN  NaN\n",
      "OD              NaN NaN  NaN\n",
      "ASW   995978.072765 NaN  NaN\n"
     ]
    }
   ],
   "source": [
    "ASW = ASW.Accum(water,water_streams,heaters,\n",
    "                 stream12 = \"ASW-OD\",\n",
    "                 stream11 = \"SP2-ASW\",\n",
    "                 stream_obratnoi_setevoi_vody = \"SWIN-TURB\",\n",
    "                 stream_pryamoi_setevoi_vody = \"SP2-WOUT\",\n",
    "                 T_nar_vozd = 15)\n",
    "\n",
    "ASW.set_construct(Diametr=2,\n",
    "                   kolichestvo = 2,\n",
    "                   Visota = 1,\n",
    "                   lambda_min_vata = 0.045,\n",
    "                   delta_min_vata = 0.01)\n",
    "\n",
    "ASW.zaryadka(1)\n",
    "ASW.jdat(4)\n",
    "ASW.razryadka(1)\n",
    "print(water_streams)\n",
    "print(heaters)"
   ]
  }
 ],
 "metadata": {
  "kernelspec": {
   "display_name": "Python 3 (ipykernel)",
   "language": "python",
   "name": "python3"
  },
  "language_info": {
   "codemirror_mode": {
    "name": "ipython",
    "version": 3
   },
   "file_extension": ".py",
   "mimetype": "text/x-python",
   "name": "python",
   "nbconvert_exporter": "python",
   "pygments_lexer": "ipython3",
   "version": "3.9.12"
  }
 },
 "nbformat": 4,
 "nbformat_minor": 5
}
