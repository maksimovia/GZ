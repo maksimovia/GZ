{
 "cells": [
  {
   "cell_type": "code",
   "execution_count": 2,
   "id": "604685aa-5ebc-4ff5-b981-1bf7c0efa237",
   "metadata": {},
   "outputs": [
    {
     "data": {
      "text/plain": [
       "{'T2': 166.22220638129028,\n",
       " 'P2': 8.746,\n",
       " 'h2real': 707.1181563325279,\n",
       " 'G1': 63.4,\n",
       " 'Ni': 0.6988321520540202,\n",
       " 'Ngm': 0.7195497405659692,\n",
       " 'KPD': 0.8072,\n",
       " 'KPDm': 0.9712075658652125}"
      ]
     },
     "execution_count": 2,
     "metadata": {},
     "output_type": "execute_result"
    }
   ],
   "source": [
    "import nasos\n",
    "import pandas as pd\n",
    "import numpy as n\n",
    "import mat_properties as prop\n",
    "\n",
    "\n",
    "# таблица номинального режима\n",
    "gas_streams0 = pd.read_excel('streams0.xlsx', sheet_name='gas',  index_col=0)\n",
    "water_streams0 = pd.read_excel(\n",
    "    'streams0.xlsx', sheet_name='water', index_col=0)\n",
    "# таблица задаваемых значений (заменится на интерфейс)\n",
    "gas_streams = pd.read_excel('streams.xlsx',  sheet_name='gas',  index_col=0)\n",
    "water_streams = pd.read_excel('streams.xlsx',  sheet_name='water', index_col=0)\n",
    "\n",
    "calctolerance = 10**-3\n",
    "calcmethod = \"hybr\"\n",
    "KPDnasos = 0.8072  # эффективность сетевых подогревателей\n",
    "RP = prop.init_REFPROP(r'C:\\Program Files (x86)\\REFPROP')\n",
    "water = prop.Materials_prop('water', [1.0, 0, 0, 0, 0], prop.REFPROP_h_s, prop.REFPROP_p_t,\n",
    "                            prop.REFPROP_p_h, prop.REFPROP_p_s, prop.REFPROP_p_q, prop.REFPROP_t_q,prop.REFPROP_p_rho, RP=RP)\n",
    "\n",
    "\n",
    "Nasos = nasos.nasos('BND-PEN', 'PEN-EVD', water, KPDnasos,\n",
    "                    water_streams, water_streams0)\n",
    "\n",
    "Nasos_res = Nasos.calc()\n",
    "Nasos_res\n",
    "Nasos.KPDm()\n",
    "Nasos_res"
   ]
  },
  {
   "cell_type": "code",
   "execution_count": 1,
   "id": "510d30e6-0ec5-4f00-8294-168a6085f88e",
   "metadata": {},
   "outputs": [
    {
     "data": {
      "text/plain": [
       "0.02470355859270512"
      ]
     },
     "execution_count": 1,
     "metadata": {},
     "output_type": "execute_result"
    }
   ],
   "source": [
    "955.0671130342554-955.0424094756627"
   ]
  },
  {
   "cell_type": "code",
   "execution_count": 2,
   "id": "3bf97114-954b-42dc-9b31-b106963a6ffd",
   "metadata": {},
   "outputs": [
    {
     "data": {
      "text/plain": [
       "2.586578289165641e-05"
      ]
     },
     "execution_count": 2,
     "metadata": {},
     "output_type": "execute_result"
    }
   ],
   "source": [
    "0.02470355859270512/955.0671130342554"
   ]
  },
  {
   "cell_type": "code",
   "execution_count": 3,
   "id": "4c798aba-48b1-4e57-b84b-c076ff3cbbf5",
   "metadata": {},
   "outputs": [
    {
     "data": {
      "text/plain": [
       "0.002586578289165641"
      ]
     },
     "execution_count": 3,
     "metadata": {},
     "output_type": "execute_result"
    }
   ],
   "source": [
    "2.586578289165641e-05*100"
   ]
  },
  {
   "cell_type": "code",
   "execution_count": null,
   "id": "92c089a1-90e0-4937-b974-19ba7c62c242",
   "metadata": {},
   "outputs": [],
   "source": []
  }
 ],
 "metadata": {
  "kernelspec": {
   "display_name": "Python 3 (ipykernel)",
   "language": "python",
   "name": "python3"
  },
  "language_info": {
   "codemirror_mode": {
    "name": "ipython",
    "version": 3
   },
   "file_extension": ".py",
   "mimetype": "text/x-python",
   "name": "python",
   "nbconvert_exporter": "python",
   "pygments_lexer": "ipython3",
   "version": "3.10.6"
  }
 },
 "nbformat": 4,
 "nbformat_minor": 5
}
