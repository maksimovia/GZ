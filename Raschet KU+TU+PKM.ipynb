{
 "cells": [
  {
   "cell_type": "code",
   "execution_count": 1,
   "id": "01ca5673-d8ba-4388-9ce6-8363475ac5a3",
   "metadata": {},
   "outputs": [
    {
     "ename": "ValueError",
     "evalue": "unable to solve 1phase PY flash with Tmin=568.102, Tmax=3000 due to error: HSU_P_flash_singlephase_Brent could not find a solution because Hmolar [1.60161e+06 J/mol] is above the maximum value of 172435.094244 J/mol : PropsSI(\"T\",\"P\",7992548.848,\"H\",88902653.95,\"water\")",
     "output_type": "error",
     "traceback": [
      "\u001b[1;31m---------------------------------------------------------------------------\u001b[0m",
      "\u001b[1;31mRemoteTraceback\u001b[0m                           Traceback (most recent call last)",
      "\u001b[1;31mRemoteTraceback\u001b[0m: \n\"\"\"\nTraceback (most recent call last):\n  File \"C:\\Users\\Admin\\AppData\\Local\\Programs\\Python\\Python310\\lib\\multiprocessing\\pool.py\", line 125, in worker\n  File \"C:\\Users\\Admin\\AppData\\Local\\Programs\\Python\\Python310\\lib\\multiprocessing\\pool.py\", line 48, in mapstar\n  File \"C:\\Users\\Admin\\Documents\\GitHub\\GZ\\PKM_multiprocess.py\", line 357, in ParallelCompute_PKM\n  File \"C:\\Users\\Admin\\Documents\\GitHub\\GZ\\calculate_CCGT_PKM.py\", line 188, in Calculate_CCGT_PKM_iter\n  File \"C:\\Users\\Admin\\Documents\\GitHub\\GZ\\calculate_CCGT_PKM.py\", line 112, in calculate_CCGT_PKM\n  File \"C:\\Users\\Admin\\Documents\\GitHub\\GZ\\KU_TU.py\", line 96, in calculate\n  File \"C:\\Users\\Admin\\Documents\\GitHub\\GZ\\cotel.py\", line 559, in calc\n  File \"C:\\Users\\Admin\\Documents\\GitHub\\GZ\\cotel.py\", line 119, in calc\n  File \"C:\\Users\\Admin\\AppData\\Local\\Programs\\Python\\Python310\\lib\\site-packages\\scipy\\optimize\\_root.py\", line 234, in root\n  File \"C:\\Users\\Admin\\AppData\\Local\\Programs\\Python\\Python310\\lib\\site-packages\\scipy\\optimize\\_minpack_py.py\", line 237, in _root_hybr\n  File \"C:\\Users\\Admin\\Documents\\GitHub\\GZ\\cotel.py\", line 89, in T12sved\n  File \"C:\\Users\\Admin\\Documents\\GitHub\\GZ\\mat_properties.py\", line 208, in p_h\n  File \"C:\\Users\\Admin\\Documents\\GitHub\\GZ\\mat_properties.py\", line 104, in REFPROP_p_h\n  File \"CoolProp\\CoolProp.pyx\", line 373, in CoolProp.CoolProp.PropsSI\n  File \"CoolProp\\CoolProp.pyx\", line 469, in CoolProp.CoolProp.PropsSI\n  File \"CoolProp\\CoolProp.pyx\", line 340, in CoolProp.CoolProp.__Props_err2\nValueError: unable to solve 1phase PY flash with Tmin=568.102, Tmax=3000 due to error: HSU_P_flash_singlephase_Brent could not find a solution because Hmolar [1.60161e+06 J/mol] is above the maximum value of 172435.094244 J/mol : PropsSI(\"T\",\"P\",7992548.848,\"H\",88902653.95,\"water\")\n\"\"\"",
      "\nThe above exception was the direct cause of the following exception:\n",
      "\u001b[1;31mValueError\u001b[0m                                Traceback (most recent call last)",
      "Cell \u001b[1;32mIn [1], line 8\u001b[0m\n\u001b[0;32m      6\u001b[0m \u001b[38;5;28;01mif\u001b[39;00m \u001b[38;5;18m__name__\u001b[39m \u001b[38;5;241m==\u001b[39m \u001b[38;5;124m\"\u001b[39m\u001b[38;5;124m__main__\u001b[39m\u001b[38;5;124m\"\u001b[39m:\n\u001b[0;32m      7\u001b[0m     pool \u001b[38;5;241m=\u001b[39m Pool(processes\u001b[38;5;241m=\u001b[39m\u001b[38;5;241m10\u001b[39m)\n\u001b[1;32m----> 8\u001b[0m     Result \u001b[38;5;241m=\u001b[39m \u001b[43mpool\u001b[49m\u001b[38;5;241;43m.\u001b[39;49m\u001b[43mmap\u001b[49m\u001b[43m(\u001b[49m\u001b[43mPC_PKM\u001b[49m\u001b[43m,\u001b[49m\u001b[43m \u001b[49m\u001b[43m[\u001b[49m\u001b[38;5;241;43m-\u001b[39;49m\u001b[38;5;241;43m29\u001b[39;49m\u001b[43m,\u001b[49m\u001b[43m \u001b[49m\u001b[38;5;241;43m-\u001b[39;49m\u001b[38;5;241;43m25\u001b[39;49m\u001b[43m,\u001b[49m\u001b[43m \u001b[49m\u001b[38;5;241;43m-\u001b[39;49m\u001b[38;5;241;43m20\u001b[39;49m\u001b[43m,\u001b[49m\u001b[43m \u001b[49m\u001b[38;5;241;43m-\u001b[39;49m\u001b[38;5;241;43m15\u001b[39;49m\u001b[43m,\u001b[49m\u001b[43m \u001b[49m\u001b[38;5;241;43m-\u001b[39;49m\u001b[38;5;241;43m10\u001b[39;49m\u001b[43m,\u001b[49m\u001b[43m \u001b[49m\u001b[38;5;241;43m-\u001b[39;49m\u001b[38;5;241;43m5\u001b[39;49m\u001b[43m,\u001b[49m\u001b[43m \u001b[49m\u001b[38;5;241;43m0\u001b[39;49m\u001b[43m,\u001b[49m\u001b[43m \u001b[49m\u001b[38;5;241;43m5\u001b[39;49m\u001b[43m,\u001b[49m\u001b[43m \u001b[49m\u001b[38;5;241;43m8\u001b[39;49m\u001b[43m]\u001b[49m\u001b[43m)\u001b[49m\n\u001b[0;32m      9\u001b[0m     \u001b[38;5;66;03m# Result = pool.map(PC_PKM, [-29,  -10,  0, 8])\u001b[39;00m\n\u001b[0;32m     10\u001b[0m     pool\u001b[38;5;241m.\u001b[39mclose()\n",
      "File \u001b[1;32m~\\AppData\\Local\\Programs\\Python\\Python310\\lib\\multiprocessing\\pool.py:367\u001b[0m, in \u001b[0;36mPool.map\u001b[1;34m(self, func, iterable, chunksize)\u001b[0m\n\u001b[0;32m    362\u001b[0m \u001b[38;5;28;01mdef\u001b[39;00m \u001b[38;5;21mmap\u001b[39m(\u001b[38;5;28mself\u001b[39m, func, iterable, chunksize\u001b[38;5;241m=\u001b[39m\u001b[38;5;28;01mNone\u001b[39;00m):\n\u001b[0;32m    363\u001b[0m     \u001b[38;5;124;03m'''\u001b[39;00m\n\u001b[0;32m    364\u001b[0m \u001b[38;5;124;03m    Apply `func` to each element in `iterable`, collecting the results\u001b[39;00m\n\u001b[0;32m    365\u001b[0m \u001b[38;5;124;03m    in a list that is returned.\u001b[39;00m\n\u001b[0;32m    366\u001b[0m \u001b[38;5;124;03m    '''\u001b[39;00m\n\u001b[1;32m--> 367\u001b[0m     \u001b[38;5;28;01mreturn\u001b[39;00m \u001b[38;5;28;43mself\u001b[39;49m\u001b[38;5;241;43m.\u001b[39;49m\u001b[43m_map_async\u001b[49m\u001b[43m(\u001b[49m\u001b[43mfunc\u001b[49m\u001b[43m,\u001b[49m\u001b[43m \u001b[49m\u001b[43miterable\u001b[49m\u001b[43m,\u001b[49m\u001b[43m \u001b[49m\u001b[43mmapstar\u001b[49m\u001b[43m,\u001b[49m\u001b[43m \u001b[49m\u001b[43mchunksize\u001b[49m\u001b[43m)\u001b[49m\u001b[38;5;241;43m.\u001b[39;49m\u001b[43mget\u001b[49m\u001b[43m(\u001b[49m\u001b[43m)\u001b[49m\n",
      "File \u001b[1;32m~\\AppData\\Local\\Programs\\Python\\Python310\\lib\\multiprocessing\\pool.py:774\u001b[0m, in \u001b[0;36mApplyResult.get\u001b[1;34m(self, timeout)\u001b[0m\n\u001b[0;32m    772\u001b[0m     \u001b[38;5;28;01mreturn\u001b[39;00m \u001b[38;5;28mself\u001b[39m\u001b[38;5;241m.\u001b[39m_value\n\u001b[0;32m    773\u001b[0m \u001b[38;5;28;01melse\u001b[39;00m:\n\u001b[1;32m--> 774\u001b[0m     \u001b[38;5;28;01mraise\u001b[39;00m \u001b[38;5;28mself\u001b[39m\u001b[38;5;241m.\u001b[39m_value\n",
      "\u001b[1;31mValueError\u001b[0m: unable to solve 1phase PY flash with Tmin=568.102, Tmax=3000 due to error: HSU_P_flash_singlephase_Brent could not find a solution because Hmolar [1.60161e+06 J/mol] is above the maximum value of 172435.094244 J/mol : PropsSI(\"T\",\"P\",7992548.848,\"H\",88902653.95,\"water\")"
     ]
    }
   ],
   "source": [
    "import multiprocessing\n",
    "from multiprocessing import Pool\n",
    "import pandas as pd\n",
    "from PKM_multiprocess import ParallelCompute_PKM as PC_PKM\n",
    "\n",
    "if __name__ == \"__main__\":\n",
    "    pool = Pool(processes=10)\n",
    "    Result = pool.map(PC_PKM, [-29, -25, -20, -15, -10, -5, 0, 5, 8])\n",
    "    # Result = pool.map(PC_PKM, [-29,  -10,  0, 8])\n",
    "    pool.close()\n",
    "    pool.join()\n",
    "    df = pd.DataFrame(Result)\n",
    "    # создаются новые таблицы после каждого расчета\n",
    "    for i in range(len(Result)):\n",
    "        nametable = \"resdataTemp\"+str(df['T_air'][i])+\".xlsx\"\n",
    "        with pd.ExcelWriter(nametable) as writer:\n",
    "            df.to_excel(writer, sheet_name=\"all_result\", index=False)\n",
    "            \n"
   ]
  },
  {
   "cell_type": "code",
   "execution_count": null,
   "id": "cc3e0230-43b7-48d0-b185-a045223f033d",
   "metadata": {},
   "outputs": [],
   "source": []
  }
 ],
 "metadata": {
  "kernelspec": {
   "display_name": "Python 3 (ipykernel)",
   "language": "python",
   "name": "python3"
  },
  "language_info": {
   "codemirror_mode": {
    "name": "ipython",
    "version": 3
   },
   "file_extension": ".py",
   "mimetype": "text/x-python",
   "name": "python",
   "nbconvert_exporter": "python",
   "pygments_lexer": "ipython3",
   "version": "3.10.8"
  }
 },
 "nbformat": 4,
 "nbformat_minor": 5
}
