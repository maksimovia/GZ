{
 "cells": [
  {
   "cell_type": "code",
   "execution_count": null,
   "id": "01ca5673-d8ba-4388-9ce6-8363475ac5a3",
   "metadata": {},
   "outputs": [
    {
     "name": "stdout",
     "output_type": "stream",
     "text": [
      "[(-29, {'Diametr': 10, 'kolichestvo': 8, 'Visota': 15, 'lambda_min_vata': 0.045, 'delta_min_vata': 0.01}), (-29, {'Diametr': 11, 'kolichestvo': 81, 'Visota': 151, 'lambda_min_vata': 0.0451, 'delta_min_vata': 0.011}), (-25, {'Diametr': 10, 'kolichestvo': 8, 'Visota': 15, 'lambda_min_vata': 0.045, 'delta_min_vata': 0.01}), (-25, {'Diametr': 11, 'kolichestvo': 81, 'Visota': 151, 'lambda_min_vata': 0.0451, 'delta_min_vata': 0.011}), (-20, {'Diametr': 10, 'kolichestvo': 8, 'Visota': 15, 'lambda_min_vata': 0.045, 'delta_min_vata': 0.01}), (-20, {'Diametr': 11, 'kolichestvo': 81, 'Visota': 151, 'lambda_min_vata': 0.0451, 'delta_min_vata': 0.011}), (-15, {'Diametr': 10, 'kolichestvo': 8, 'Visota': 15, 'lambda_min_vata': 0.045, 'delta_min_vata': 0.01}), (-15, {'Diametr': 11, 'kolichestvo': 81, 'Visota': 151, 'lambda_min_vata': 0.0451, 'delta_min_vata': 0.011}), (-10, {'Diametr': 10, 'kolichestvo': 8, 'Visota': 15, 'lambda_min_vata': 0.045, 'delta_min_vata': 0.01}), (-10, {'Diametr': 11, 'kolichestvo': 81, 'Visota': 151, 'lambda_min_vata': 0.0451, 'delta_min_vata': 0.011}), (-5, {'Diametr': 10, 'kolichestvo': 8, 'Visota': 15, 'lambda_min_vata': 0.045, 'delta_min_vata': 0.01}), (-5, {'Diametr': 11, 'kolichestvo': 81, 'Visota': 151, 'lambda_min_vata': 0.0451, 'delta_min_vata': 0.011}), (0, {'Diametr': 10, 'kolichestvo': 8, 'Visota': 15, 'lambda_min_vata': 0.045, 'delta_min_vata': 0.01}), (0, {'Diametr': 11, 'kolichestvo': 81, 'Visota': 151, 'lambda_min_vata': 0.0451, 'delta_min_vata': 0.011}), (5, {'Diametr': 10, 'kolichestvo': 8, 'Visota': 15, 'lambda_min_vata': 0.045, 'delta_min_vata': 0.01}), (5, {'Diametr': 11, 'kolichestvo': 81, 'Visota': 151, 'lambda_min_vata': 0.0451, 'delta_min_vata': 0.011}), (8, {'Diametr': 10, 'kolichestvo': 8, 'Visota': 15, 'lambda_min_vata': 0.045, 'delta_min_vata': 0.01}), (8, {'Diametr': 11, 'kolichestvo': 81, 'Visota': 151, 'lambda_min_vata': 0.0451, 'delta_min_vata': 0.011})]\n"
     ]
    }
   ],
   "source": [
    "import multiprocessing\n",
    "from multiprocessing import Pool\n",
    "import pandas as pd\n",
    "from PKM_multiprocess import ParallelCompute_PKM as PC_PKM\n",
    "\n",
    "# Конструкция аккумулятора\n",
    "constr = [{\n",
    "    \"Diametr\": 10,\n",
    "    \"kolichestvo\": 8,\n",
    "    \"Visota\": 15,\n",
    "    \"lambda_min_vata\": 0.045,\n",
    "    \"delta_min_vata\": 0.01,\n",
    "},{\n",
    "    \"Diametr\": 11,\n",
    "    \"kolichestvo\": 81,\n",
    "    \"Visota\": 151,\n",
    "    \"lambda_min_vata\": 0.0451,\n",
    "    \"delta_min_vata\": 0.011,\n",
    "}]\n",
    "\n",
    "temperatures=[-29,-25, -20, -15, -10, -5, 0, 5, 8]\n",
    "arguments=[(temperatures[i],\n",
    "           constr[j]\n",
    "           )\n",
    "            \n",
    "           for i in range(len(temperatures))\n",
    "           for j in range(len(constr))\n",
    "        \n",
    "]\n",
    "print(arguments)\n",
    "if __name__ == \"__main__\":\n",
    "    pool = Pool(processes=len(arguments))\n",
    "    Result = pool.map(PC_PKM, arguments)\n",
    "    # Result = pool.map(PC_PKM, [-29,  -10,  0, 8])\n",
    "    pool.close()\n",
    "    pool.join()\n",
    "    # df = pd.DataFrame(Result)\n",
    "    # # создаются новые таблицы после каждого расчета\n",
    "    # for i in range(len(Result)):\n",
    "    #     nametable = \"resdataTemp\"+str(df['T_air'][i])+\".xlsx\"\n",
    "    #     with pd.ExcelWriter(nametable) as writer:\n",
    "    #         df.to_excel(writer, sheet_name=\"all_result\", index=False)\n",
    "            \n"
   ]
  },
  {
   "cell_type": "code",
   "execution_count": null,
   "id": "cc3e0230-43b7-48d0-b185-a045223f033d",
   "metadata": {},
   "outputs": [],
   "source": []
  }
 ],
 "metadata": {
  "kernelspec": {
   "display_name": "Python 3 (ipykernel)",
   "language": "python",
   "name": "python3"
  },
  "language_info": {
   "codemirror_mode": {
    "name": "ipython",
    "version": 3
   },
   "file_extension": ".py",
   "mimetype": "text/x-python",
   "name": "python",
   "nbconvert_exporter": "python",
   "pygments_lexer": "ipython3",
   "version": "3.9.12"
  }
 },
 "nbformat": 4,
 "nbformat_minor": 5
}
