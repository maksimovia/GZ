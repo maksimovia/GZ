{
 "cells": [
  {
   "cell_type": "code",
   "execution_count": 1,
   "id": "01ca5673-d8ba-4388-9ce6-8363475ac5a3",
   "metadata": {},
   "outputs": [
    {
     "ename": "MaybeEncodingError",
     "evalue": "Error sending result: '<multiprocessing.pool.ExceptionWithTraceback object at 0x0000020C33929120>'. Reason: 'PicklingError(\"Can't pickle <class '_minpack.error'>: import of module '_minpack' failed\")'",
     "output_type": "error",
     "traceback": [
      "\u001b[1;31m---------------------------------------------------------------------------\u001b[0m",
      "\u001b[1;31mMaybeEncodingError\u001b[0m                        Traceback (most recent call last)",
      "Cell \u001b[1;32mIn [1], line 8\u001b[0m\n\u001b[0;32m      6\u001b[0m \u001b[38;5;28;01mif\u001b[39;00m \u001b[38;5;18m__name__\u001b[39m \u001b[38;5;241m==\u001b[39m \u001b[38;5;124m\"\u001b[39m\u001b[38;5;124m__main__\u001b[39m\u001b[38;5;124m\"\u001b[39m:\n\u001b[0;32m      7\u001b[0m     pool \u001b[38;5;241m=\u001b[39m Pool(processes\u001b[38;5;241m=\u001b[39m\u001b[38;5;241m9\u001b[39m)\n\u001b[1;32m----> 8\u001b[0m     Result \u001b[38;5;241m=\u001b[39m \u001b[43mpool\u001b[49m\u001b[38;5;241;43m.\u001b[39;49m\u001b[43mmap\u001b[49m\u001b[43m(\u001b[49m\u001b[43mPC_PKM\u001b[49m\u001b[43m,\u001b[49m\u001b[43m \u001b[49m\u001b[43m[\u001b[49m\u001b[38;5;241;43m-\u001b[39;49m\u001b[38;5;241;43m29\u001b[39;49m\u001b[43m,\u001b[49m\u001b[43m \u001b[49m\u001b[38;5;241;43m-\u001b[39;49m\u001b[38;5;241;43m25\u001b[39;49m\u001b[43m,\u001b[49m\u001b[43m \u001b[49m\u001b[38;5;241;43m-\u001b[39;49m\u001b[38;5;241;43m20\u001b[39;49m\u001b[43m,\u001b[49m\u001b[43m \u001b[49m\u001b[38;5;241;43m-\u001b[39;49m\u001b[38;5;241;43m15\u001b[39;49m\u001b[43m,\u001b[49m\u001b[43m \u001b[49m\u001b[38;5;241;43m-\u001b[39;49m\u001b[38;5;241;43m10\u001b[39;49m\u001b[43m,\u001b[49m\u001b[43m \u001b[49m\u001b[38;5;241;43m-\u001b[39;49m\u001b[38;5;241;43m5\u001b[39;49m\u001b[43m,\u001b[49m\u001b[43m \u001b[49m\u001b[38;5;241;43m0\u001b[39;49m\u001b[43m,\u001b[49m\u001b[43m \u001b[49m\u001b[38;5;241;43m5\u001b[39;49m\u001b[43m,\u001b[49m\u001b[43m \u001b[49m\u001b[38;5;241;43m8\u001b[39;49m\u001b[43m]\u001b[49m\u001b[43m)\u001b[49m\n\u001b[0;32m      9\u001b[0m     pool\u001b[38;5;241m.\u001b[39mclose()\n\u001b[0;32m     10\u001b[0m     pool\u001b[38;5;241m.\u001b[39mjoin()\n",
      "File \u001b[1;32m~\\AppData\\Local\\Programs\\Python\\Python310\\lib\\multiprocessing\\pool.py:367\u001b[0m, in \u001b[0;36mPool.map\u001b[1;34m(self, func, iterable, chunksize)\u001b[0m\n\u001b[0;32m    362\u001b[0m \u001b[38;5;28;01mdef\u001b[39;00m \u001b[38;5;21mmap\u001b[39m(\u001b[38;5;28mself\u001b[39m, func, iterable, chunksize\u001b[38;5;241m=\u001b[39m\u001b[38;5;28;01mNone\u001b[39;00m):\n\u001b[0;32m    363\u001b[0m     \u001b[38;5;124;03m'''\u001b[39;00m\n\u001b[0;32m    364\u001b[0m \u001b[38;5;124;03m    Apply `func` to each element in `iterable`, collecting the results\u001b[39;00m\n\u001b[0;32m    365\u001b[0m \u001b[38;5;124;03m    in a list that is returned.\u001b[39;00m\n\u001b[0;32m    366\u001b[0m \u001b[38;5;124;03m    '''\u001b[39;00m\n\u001b[1;32m--> 367\u001b[0m     \u001b[38;5;28;01mreturn\u001b[39;00m \u001b[38;5;28;43mself\u001b[39;49m\u001b[38;5;241;43m.\u001b[39;49m\u001b[43m_map_async\u001b[49m\u001b[43m(\u001b[49m\u001b[43mfunc\u001b[49m\u001b[43m,\u001b[49m\u001b[43m \u001b[49m\u001b[43miterable\u001b[49m\u001b[43m,\u001b[49m\u001b[43m \u001b[49m\u001b[43mmapstar\u001b[49m\u001b[43m,\u001b[49m\u001b[43m \u001b[49m\u001b[43mchunksize\u001b[49m\u001b[43m)\u001b[49m\u001b[38;5;241;43m.\u001b[39;49m\u001b[43mget\u001b[49m\u001b[43m(\u001b[49m\u001b[43m)\u001b[49m\n",
      "File \u001b[1;32m~\\AppData\\Local\\Programs\\Python\\Python310\\lib\\multiprocessing\\pool.py:774\u001b[0m, in \u001b[0;36mApplyResult.get\u001b[1;34m(self, timeout)\u001b[0m\n\u001b[0;32m    772\u001b[0m     \u001b[38;5;28;01mreturn\u001b[39;00m \u001b[38;5;28mself\u001b[39m\u001b[38;5;241m.\u001b[39m_value\n\u001b[0;32m    773\u001b[0m \u001b[38;5;28;01melse\u001b[39;00m:\n\u001b[1;32m--> 774\u001b[0m     \u001b[38;5;28;01mraise\u001b[39;00m \u001b[38;5;28mself\u001b[39m\u001b[38;5;241m.\u001b[39m_value\n",
      "\u001b[1;31mMaybeEncodingError\u001b[0m: Error sending result: '<multiprocessing.pool.ExceptionWithTraceback object at 0x0000020C33929120>'. Reason: 'PicklingError(\"Can't pickle <class '_minpack.error'>: import of module '_minpack' failed\")'"
     ]
    }
   ],
   "source": [
    "import multiprocessing\n",
    "from multiprocessing import Pool\n",
    "import pandas as pd\n",
    "from PKM_multiprocess import ParallelCompute_PKM as PC_PKM\n",
    "\n",
    "if __name__ == \"__main__\":\n",
    "    pool = Pool(processes=9)\n",
    "    Result = pool.map(PC_PKM, [-29, -25, -20, -15, -10, -5, 0, 5, 8])\n",
    "    pool.close()\n",
    "    pool.join()\n",
    "    df = pd.DataFrame(Result)\n",
    "    df = df\n",
    "    nametable=[]\n",
    "    # создаются новые таблицы после каждого расчета\n",
    "    for i in range(len(Result)):\n",
    "        nametable = \"resdataTemp\"+str(df['T_air'][i])+\".xlsx\"\n",
    "#         print(nametable)\n",
    "        dfgas_streams_zaryad=df['gas_streams_zaryad'][i]\n",
    "        dfwater_streams_zaryad=df['water_streams_zaryad'][i]\n",
    "        dfsyngas_streams_zaryad=df['syngas_streams_zaryad'][i]\n",
    "        dfelectric_zaryad=df['electric_zaryad'][i]\n",
    "        dfheaters_zaryad=df['heaters_zaryad'][i]\n",
    "        dfaccumulation_zaryad=df['accumulation_zaryad'][i]\n",
    "        dfgas_streams_razryad=df['gas_streams_razryad'][i]\n",
    "        dfwater_streams_razryad=df['water_streams_razryad'][i]\n",
    "        dfsyngas_streams_razryad=df['syngas_streams_razryad'][i]\n",
    "        dfelectric_razryad=df['electric_razryad'][i]\n",
    "        dfheaters_razryad=df['heaters_razryad'][i]\n",
    "        dfaccumulation_razryad=df['accumulation_razryad'][i]\n",
    "        \n",
    "        dfgas_streams_zaryad = dfgas_streams_zaryad.T #Опционально, если неудобен такой вид таблицы -закоментить\n",
    "        dfwater_streams_zaryad = dfwater_streams_zaryad.T #Опционально, если неудобен такой вид таблицы -закоментить\n",
    "        dfsyngas_streams_zaryad = dfsyngas_streams_zaryad.T #Опционально, если неудобен такой вид таблицы -закоментить\n",
    "        dfelectric_zaryad = dfelectric_zaryad.T #Опционально, если неудобен такой вид таблицы -закоментить\n",
    "        dfheaters_zaryad = dfheaters_zaryad.T #Опционально, если неудобен такой вид таблицы -закоментить\n",
    "        dfaccumulation_zaryad = dfaccumulation_zaryad.T #Опционально, если неудобен такой вид таблицы -закоментить\n",
    "        dfgas_streams_razryad = dfgas_streams_razryad.T #Опционально, если неудобен такой вид таблицы -закоментить\n",
    "        dfwater_streams_razryad = dfwater_streams_razryad.T #Опционально, если неудобен такой вид таблицы -закоментить\n",
    "        dfsyngas_streams_razryad = dfsyngas_streams_razryad.T #Опционально, если неудобен такой вид таблицы -закоментить\n",
    "        dfelectric_razryad = dfelectric_razryad.T #Опционально, если неудобен такой вид таблицы -закоментить\n",
    "        dfheaters_razryad = dfheaters_razryad.T #Опционально, если неудобен такой вид таблицы -закоментить\n",
    "        dfaccumulation_razryad = dfaccumulation_razryad.T #Опционально, если неудобен такой вид таблицы -закоментить\n",
    "        \n",
    "#         print(nametable)\n",
    "#         print(dfelectric)\n",
    "#         print(dfHeatex)\n",
    "        with pd.ExcelWriter(nametable) as writer:\n",
    "            df.to_excel(writer, sheet_name=\"all_result\", index=False)\n",
    "            dfgas_streams_zaryad.to_excel(writer, sheet_name=\"gas_streams_zaryad\", index=False)\n",
    "            dfwater_streams_zaryad.to_excel(writer, sheet_name=\"water_streams_zaryad\", index=False)\n",
    "            dfsyngas_streams_zaryad.to_excel(writer, sheet_name=\"syngas_streams_zaryad\", index=False)\n",
    "            dfelectric_zaryad.to_excel(writer, sheet_name=\"electric_zaryad\", index=False)\n",
    "            dfheaters_zaryad.to_excel(writer, sheet_name=\"heaters_zaryad\", index=False)\n",
    "            dfaccumulation_zaryad.to_excel(writer, sheet_name=\"accumulation_zaryad\", index=False)\n",
    "            dfgas_streams_razryad.to_excel(writer, sheet_name=\"gas_streams_razryad\", index=False)\n",
    "            dfwater_streams_razryad.to_excel(writer, sheet_name=\"water_streams_razryad\", index=False)\n",
    "            dfsyngas_streams_razryad.to_excel(writer, sheet_name=\"syngas_streams_razryad\", index=False)\n",
    "            dfelectric_razryad.to_excel(writer, sheet_name=\"electric_razryad\", index=False)\n",
    "            dfheaters_razryad.to_excel(writer, sheet_name=\"heaters_razryad\", index=False)\n",
    "            dfaccumulation_razryad.to_excel(writer, sheet_name=\"accumulation_razryad\", index=False)\n",
    "    \n"
   ]
  },
  {
   "cell_type": "code",
   "execution_count": null,
   "id": "cc3e0230-43b7-48d0-b185-a045223f033d",
   "metadata": {},
   "outputs": [],
   "source": []
  }
 ],
 "metadata": {
  "kernelspec": {
   "display_name": "Python 3 (ipykernel)",
   "language": "python",
   "name": "python3"
  },
  "language_info": {
   "codemirror_mode": {
    "name": "ipython",
    "version": 3
   },
   "file_extension": ".py",
   "mimetype": "text/x-python",
   "name": "python",
   "nbconvert_exporter": "python",
   "pygments_lexer": "ipython3",
   "version": "3.10.8"
  }
 },
 "nbformat": 4,
 "nbformat_minor": 5
}
