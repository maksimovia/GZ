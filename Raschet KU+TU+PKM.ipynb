{
 "cells": [
  {
   "cell_type": "code",
   "execution_count": null,
   "id": "01ca5673-d8ba-4388-9ce6-8363475ac5a3",
   "metadata": {},
   "outputs": [],
   "source": [
    "import multiprocessing\n",
    "from multiprocessing import Pool\n",
    "import pandas as pd\n",
    "from PKM_multiprocess import ParallelCompute_PKM as PC_PKM\n",
    "\n",
    "if __name__ == \"__main__\":\n",
    "    pool = Pool(processes=10)\n",
    "    # Result = pool.map(PC_PKM, [-29, -25, -20, -15, -10, -5, 0, 5, 8])\n",
    "    Result = pool.map(PC_PKM, [-29,  -10,  0, 8])\n",
    "    pool.close()\n",
    "    pool.join()\n",
    "    df = pd.DataFrame(Result)\n",
    "    df = df\n",
    "    nametable=[]\n",
    "    # создаются новые таблицы после каждого расчета\n",
    "    for i in range(len(Result)):\n",
    "        nametable = \"resdataTemp\"+str(df['T_air'][i])+\".xlsx\"\n",
    "        with pd.ExcelWriter(nametable) as writer:\n",
    "            df.to_excel(writer, sheet_name=\"all_result\", index=False)\n",
    "            \n"
   ]
  },
  {
   "cell_type": "code",
   "execution_count": null,
   "id": "cc3e0230-43b7-48d0-b185-a045223f033d",
   "metadata": {},
   "outputs": [],
   "source": []
  }
 ],
 "metadata": {
  "kernelspec": {
   "display_name": "Python 3 (ipykernel)",
   "language": "python",
   "name": "python3"
  },
  "language_info": {
   "codemirror_mode": {
    "name": "ipython",
    "version": 3
   },
   "file_extension": ".py",
   "mimetype": "text/x-python",
   "name": "python",
   "nbconvert_exporter": "python",
   "pygments_lexer": "ipython3",
   "version": "3.10.6"
  }
 },
 "nbformat": 4,
 "nbformat_minor": 5
}
