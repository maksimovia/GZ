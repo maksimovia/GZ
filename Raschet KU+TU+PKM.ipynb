{
 "cells": [
  {
   "cell_type": "code",
   "execution_count": 1,
   "id": "01ca5673-d8ba-4388-9ce6-8363475ac5a3",
   "metadata": {},
   "outputs": [
    {
     "name": "stdout",
     "output_type": "stream",
     "text": [
      "[(-29, {'Diametr': 10, 'kolichestvo': 8, 'Visota': 15, 'lambda_min_vata': 0.045, 'delta_min_vata': 0.01}), (-29, {'Diametr': 10, 'kolichestvo': 4, 'Visota': 15, 'lambda_min_vata': 0.045, 'delta_min_vata': 0.01}), (-29, {'Diametr': 10, 'kolichestvo': 6, 'Visota': 15, 'lambda_min_vata': 0.045, 'delta_min_vata': 0.01}), (-25, {'Diametr': 10, 'kolichestvo': 8, 'Visota': 15, 'lambda_min_vata': 0.045, 'delta_min_vata': 0.01}), (-25, {'Diametr': 10, 'kolichestvo': 4, 'Visota': 15, 'lambda_min_vata': 0.045, 'delta_min_vata': 0.01}), (-25, {'Diametr': 10, 'kolichestvo': 6, 'Visota': 15, 'lambda_min_vata': 0.045, 'delta_min_vata': 0.01}), (-20, {'Diametr': 10, 'kolichestvo': 8, 'Visota': 15, 'lambda_min_vata': 0.045, 'delta_min_vata': 0.01}), (-20, {'Diametr': 10, 'kolichestvo': 4, 'Visota': 15, 'lambda_min_vata': 0.045, 'delta_min_vata': 0.01}), (-20, {'Diametr': 10, 'kolichestvo': 6, 'Visota': 15, 'lambda_min_vata': 0.045, 'delta_min_vata': 0.01}), (-15, {'Diametr': 10, 'kolichestvo': 8, 'Visota': 15, 'lambda_min_vata': 0.045, 'delta_min_vata': 0.01}), (-15, {'Diametr': 10, 'kolichestvo': 4, 'Visota': 15, 'lambda_min_vata': 0.045, 'delta_min_vata': 0.01}), (-15, {'Diametr': 10, 'kolichestvo': 6, 'Visota': 15, 'lambda_min_vata': 0.045, 'delta_min_vata': 0.01}), (-10, {'Diametr': 10, 'kolichestvo': 8, 'Visota': 15, 'lambda_min_vata': 0.045, 'delta_min_vata': 0.01}), (-10, {'Diametr': 10, 'kolichestvo': 4, 'Visota': 15, 'lambda_min_vata': 0.045, 'delta_min_vata': 0.01}), (-10, {'Diametr': 10, 'kolichestvo': 6, 'Visota': 15, 'lambda_min_vata': 0.045, 'delta_min_vata': 0.01}), (-5, {'Diametr': 10, 'kolichestvo': 8, 'Visota': 15, 'lambda_min_vata': 0.045, 'delta_min_vata': 0.01}), (-5, {'Diametr': 10, 'kolichestvo': 4, 'Visota': 15, 'lambda_min_vata': 0.045, 'delta_min_vata': 0.01}), (-5, {'Diametr': 10, 'kolichestvo': 6, 'Visota': 15, 'lambda_min_vata': 0.045, 'delta_min_vata': 0.01}), (0, {'Diametr': 10, 'kolichestvo': 8, 'Visota': 15, 'lambda_min_vata': 0.045, 'delta_min_vata': 0.01}), (0, {'Diametr': 10, 'kolichestvo': 4, 'Visota': 15, 'lambda_min_vata': 0.045, 'delta_min_vata': 0.01}), (0, {'Diametr': 10, 'kolichestvo': 6, 'Visota': 15, 'lambda_min_vata': 0.045, 'delta_min_vata': 0.01}), (5, {'Diametr': 10, 'kolichestvo': 8, 'Visota': 15, 'lambda_min_vata': 0.045, 'delta_min_vata': 0.01}), (5, {'Diametr': 10, 'kolichestvo': 4, 'Visota': 15, 'lambda_min_vata': 0.045, 'delta_min_vata': 0.01}), (5, {'Diametr': 10, 'kolichestvo': 6, 'Visota': 15, 'lambda_min_vata': 0.045, 'delta_min_vata': 0.01}), (8, {'Diametr': 10, 'kolichestvo': 8, 'Visota': 15, 'lambda_min_vata': 0.045, 'delta_min_vata': 0.01}), (8, {'Diametr': 10, 'kolichestvo': 4, 'Visota': 15, 'lambda_min_vata': 0.045, 'delta_min_vata': 0.01}), (8, {'Diametr': 10, 'kolichestvo': 6, 'Visota': 15, 'lambda_min_vata': 0.045, 'delta_min_vata': 0.01})]\n"
     ]
    },
    {
     "ename": "ValueError",
     "evalue": "unable to solve 1phase PY flash with Tmin=273.114, Tmax=432.187 due to error: HSU_P_flash_singlephase_Brent could not find a solution because Hmolar [-180152 J/mol] is below the minimum value of 7.58636315079 J/mol : PropsSI(\"T\",\"P\",603268.8619,\"H\",-9999990,\"water\")",
     "output_type": "error",
     "traceback": [
      "\u001b[1;31m---------------------------------------------------------------------------\u001b[0m",
      "\u001b[1;31mRemoteTraceback\u001b[0m                           Traceback (most recent call last)",
      "\u001b[1;31mRemoteTraceback\u001b[0m: \n\"\"\"\nTraceback (most recent call last):\n  File \"C:\\Users\\Admin\\AppData\\Local\\Programs\\Python\\Python310\\lib\\multiprocessing\\pool.py\", line 125, in worker\n  File \"C:\\Users\\Admin\\AppData\\Local\\Programs\\Python\\Python310\\lib\\multiprocessing\\pool.py\", line 48, in mapstar\n  File \"C:\\Users\\Admin\\Documents\\GitHub\\GZ\\PKM_multiprocess.py\", line 349, in ParallelCompute_PKM\n  File \"C:\\Users\\Admin\\Documents\\GitHub\\GZ\\calculate_CCGT_PKM.py\", line 188, in Calculate_CCGT_PKM_iter\n  File \"C:\\Users\\Admin\\Documents\\GitHub\\GZ\\calculate_CCGT_PKM.py\", line 112, in calculate_CCGT_PKM\n  File \"C:\\Users\\Admin\\Documents\\GitHub\\GZ\\KU_TU.py\", line 96, in calculate\n  File \"C:\\Users\\Admin\\Documents\\GitHub\\GZ\\cotel.py\", line 639, in calc\n  File \"C:\\Users\\Admin\\Documents\\GitHub\\GZ\\cotel.py\", line 75, in calc\n  File \"C:\\Users\\Admin\\Documents\\GitHub\\GZ\\mat_properties.py\", line 231, in p_h\n  File \"C:\\Users\\Admin\\Documents\\GitHub\\GZ\\mat_properties.py\", line 90, in REFPROP_p_h\n  File \"CoolProp\\CoolProp.pyx\", line 373, in CoolProp.CoolProp.PropsSI\n  File \"CoolProp\\CoolProp.pyx\", line 469, in CoolProp.CoolProp.PropsSI\n  File \"CoolProp\\CoolProp.pyx\", line 340, in CoolProp.CoolProp.__Props_err2\nValueError: unable to solve 1phase PY flash with Tmin=273.114, Tmax=432.187 due to error: HSU_P_flash_singlephase_Brent could not find a solution because Hmolar [-180152 J/mol] is below the minimum value of 7.58636315079 J/mol : PropsSI(\"T\",\"P\",603268.8619,\"H\",-9999990,\"water\")\n\"\"\"",
      "\nThe above exception was the direct cause of the following exception:\n",
      "\u001b[1;31mValueError\u001b[0m                                Traceback (most recent call last)",
      "Cell \u001b[1;32mIn [1], line 38\u001b[0m\n\u001b[0;32m     36\u001b[0m \u001b[38;5;28;01mif\u001b[39;00m \u001b[38;5;18m__name__\u001b[39m \u001b[38;5;241m==\u001b[39m \u001b[38;5;124m\"\u001b[39m\u001b[38;5;124m__main__\u001b[39m\u001b[38;5;124m\"\u001b[39m:\n\u001b[0;32m     37\u001b[0m     pool \u001b[38;5;241m=\u001b[39m Pool(processes\u001b[38;5;241m=\u001b[39m\u001b[38;5;28mmin\u001b[39m(\u001b[38;5;28mlen\u001b[39m(arguments),\u001b[38;5;241m60\u001b[39m))\n\u001b[1;32m---> 38\u001b[0m     Result \u001b[38;5;241m=\u001b[39m \u001b[43mpool\u001b[49m\u001b[38;5;241;43m.\u001b[39;49m\u001b[43mmap\u001b[49m\u001b[43m(\u001b[49m\u001b[43mPC_PKM\u001b[49m\u001b[43m,\u001b[49m\u001b[43m \u001b[49m\u001b[43marguments\u001b[49m\u001b[43m)\u001b[49m\n\u001b[0;32m     39\u001b[0m     \u001b[38;5;66;03m# Result = pool.map(PC_PKM, [-29,  -10,  0, 8])\u001b[39;00m\n\u001b[0;32m     40\u001b[0m     pool\u001b[38;5;241m.\u001b[39mclose()\n",
      "File \u001b[1;32m~\\AppData\\Local\\Programs\\Python\\Python310\\lib\\multiprocessing\\pool.py:367\u001b[0m, in \u001b[0;36mPool.map\u001b[1;34m(self, func, iterable, chunksize)\u001b[0m\n\u001b[0;32m    362\u001b[0m \u001b[38;5;28;01mdef\u001b[39;00m \u001b[38;5;21mmap\u001b[39m(\u001b[38;5;28mself\u001b[39m, func, iterable, chunksize\u001b[38;5;241m=\u001b[39m\u001b[38;5;28;01mNone\u001b[39;00m):\n\u001b[0;32m    363\u001b[0m     \u001b[38;5;124;03m'''\u001b[39;00m\n\u001b[0;32m    364\u001b[0m \u001b[38;5;124;03m    Apply `func` to each element in `iterable`, collecting the results\u001b[39;00m\n\u001b[0;32m    365\u001b[0m \u001b[38;5;124;03m    in a list that is returned.\u001b[39;00m\n\u001b[0;32m    366\u001b[0m \u001b[38;5;124;03m    '''\u001b[39;00m\n\u001b[1;32m--> 367\u001b[0m     \u001b[38;5;28;01mreturn\u001b[39;00m \u001b[38;5;28;43mself\u001b[39;49m\u001b[38;5;241;43m.\u001b[39;49m\u001b[43m_map_async\u001b[49m\u001b[43m(\u001b[49m\u001b[43mfunc\u001b[49m\u001b[43m,\u001b[49m\u001b[43m \u001b[49m\u001b[43miterable\u001b[49m\u001b[43m,\u001b[49m\u001b[43m \u001b[49m\u001b[43mmapstar\u001b[49m\u001b[43m,\u001b[49m\u001b[43m \u001b[49m\u001b[43mchunksize\u001b[49m\u001b[43m)\u001b[49m\u001b[38;5;241;43m.\u001b[39;49m\u001b[43mget\u001b[49m\u001b[43m(\u001b[49m\u001b[43m)\u001b[49m\n",
      "File \u001b[1;32m~\\AppData\\Local\\Programs\\Python\\Python310\\lib\\multiprocessing\\pool.py:774\u001b[0m, in \u001b[0;36mApplyResult.get\u001b[1;34m(self, timeout)\u001b[0m\n\u001b[0;32m    772\u001b[0m     \u001b[38;5;28;01mreturn\u001b[39;00m \u001b[38;5;28mself\u001b[39m\u001b[38;5;241m.\u001b[39m_value\n\u001b[0;32m    773\u001b[0m \u001b[38;5;28;01melse\u001b[39;00m:\n\u001b[1;32m--> 774\u001b[0m     \u001b[38;5;28;01mraise\u001b[39;00m \u001b[38;5;28mself\u001b[39m\u001b[38;5;241m.\u001b[39m_value\n",
      "\u001b[1;31mValueError\u001b[0m: unable to solve 1phase PY flash with Tmin=273.114, Tmax=432.187 due to error: HSU_P_flash_singlephase_Brent could not find a solution because Hmolar [-180152 J/mol] is below the minimum value of 7.58636315079 J/mol : PropsSI(\"T\",\"P\",603268.8619,\"H\",-9999990,\"water\")"
     ]
    }
   ],
   "source": [
    "import multiprocessing\n",
    "from multiprocessing import Pool\n",
    "import pandas as pd\n",
    "from PKM_multiprocess import ParallelCompute_PKM as PC_PKM\n",
    "\n",
    "# Конструкция аккумулятора\n",
    "constr = [{\n",
    "    \"Diametr\": 10,\n",
    "    \"kolichestvo\": 8,\n",
    "    \"Visota\": 15,\n",
    "    \"lambda_min_vata\": 0.045,\n",
    "    \"delta_min_vata\": 0.01,\n",
    "},{\n",
    "    \"Diametr\": 10,\n",
    "    \"kolichestvo\": 4,\n",
    "    \"Visota\": 15,\n",
    "    \"lambda_min_vata\": 0.045,\n",
    "    \"delta_min_vata\": 0.01,\n",
    "},{\n",
    "    \"Diametr\": 10,\n",
    "    \"kolichestvo\": 6,\n",
    "    \"Visota\": 15,\n",
    "    \"lambda_min_vata\": 0.045,\n",
    "    \"delta_min_vata\": 0.01,\n",
    "}]\n",
    "\n",
    "temperatures=[-29,-25, -20, -15, -10, -5, 0, 5, 8]\n",
    "# temperatures=[-29]\n",
    "arguments=[(temperatures[i],\n",
    "           constr[j]\n",
    "           )\n",
    "           for i in range(len(temperatures))\n",
    "           for j in range(len(constr))\n",
    "]\n",
    "print(arguments)\n",
    "if __name__ == \"__main__\":\n",
    "    pool = Pool(processes=min(len(arguments),60))\n",
    "    Result = pool.map(PC_PKM, arguments)\n",
    "    # Result = pool.map(PC_PKM, [-29,  -10,  0, 8])\n",
    "    pool.close()\n",
    "    pool.join()"
   ]
  },
  {
   "cell_type": "code",
   "execution_count": null,
   "id": "cc3e0230-43b7-48d0-b185-a045223f033d",
   "metadata": {},
   "outputs": [],
   "source": []
  }
 ],
 "metadata": {
  "kernelspec": {
   "display_name": "Python 3 (ipykernel)",
   "language": "python",
   "name": "python3"
  },
  "language_info": {
   "codemirror_mode": {
    "name": "ipython",
    "version": 3
   },
   "file_extension": ".py",
   "mimetype": "text/x-python",
   "name": "python",
   "nbconvert_exporter": "python",
   "pygments_lexer": "ipython3",
   "version": "3.10.8"
  }
 },
 "nbformat": 4,
 "nbformat_minor": 5
}
