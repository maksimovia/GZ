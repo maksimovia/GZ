{
 "cells": [
  {
   "cell_type": "code",
   "execution_count": 1,
   "id": "01ca5673-d8ba-4388-9ce6-8363475ac5a3",
   "metadata": {},
   "outputs": [
    {
     "ename": "SyntaxError",
     "evalue": "illegal target for annotation (1462795606.py, line 39)",
     "output_type": "error",
     "traceback": [
      "\u001b[1;36m  Input \u001b[1;32mIn [1]\u001b[1;36m\u001b[0m\n\u001b[1;33m    \"gas_streams_zaryad\": gas_streams_zaryad,\u001b[0m\n\u001b[1;37m    ^\u001b[0m\n\u001b[1;31mSyntaxError\u001b[0m\u001b[1;31m:\u001b[0m illegal target for annotation\n"
     ]
    }
   ],
   "source": [
    "import multiprocessing\n",
    "from multiprocessing import Pool\n",
    "\n",
    "import pandas as pd\n",
    "from PKM_multiprocess import ParallelCompute_PKM as PC_PKM\n",
    "\n",
    "if __name__ == \"__main__\":\n",
    "    pool = Pool(processes=11)\n",
    "    Result = pool.map(PC_PKM, [-29, -25, -20, -15, -10, -5, 0, 5, 8])\n",
    "    pool.close()\n",
    "    pool.join()\n",
    "    df = pd.DataFrame(Result)\n",
    "    df = df\n",
    "    nametable=[]\n",
    "    # создаются новые таблицы после каждого расчета\n",
    "    for i in range(len(Result)):\n",
    "        nametable = \"resdataTemp\"+str(df['T_air'][i])+\".xlsx\"\n",
    "#         print(nametable)\n",
    "        dfgas_streams_zaryad=df['gas_streams_zaryad'][i]\n",
    "        dfwater_streams_zaryad=df['water_streams_zaryad'][i]\n",
    "        dfsyngas_streams_zaryad=df['syngas_streams_zaryad'][i]\n",
    "        dfelectric_zaryad=df['electric_zaryad'][i]\n",
    "        dfheaters_zaryad=df['heaters_zaryad'][i]\n",
    "        dfaccumulation_zaryad=df['accumulation_zaryad'][i]\n",
    "        dfgas_streams_razryad=df['gas_streams_razryad'][i]\n",
    "        dfwater_streams_razryad=df['water_streams_razryad'][i]\n",
    "        dfsyngas_streams_razryad=df['syngas_streams_razryad'][i]\n",
    "        dfelectric_razryad=df['electric_razryad'][i]\n",
    "        dfheaters_razryad=df['heaters_razryad'][i]\n",
    "        dfaccumulation_razryad=df['accumulation_razryad'][i]\n",
    "        \n",
    "        dfelectric = dfelectric.T #Опционально, если неудобен такой вид таблицы -закоментить\n",
    "        dfHeatex = dfHeatex.T #Опционально, если неудобен такой вид таблицы -закоментить\n",
    "        print(nametable)\n",
    "        print(dfelectric)\n",
    "        print(dfHeatex)\n",
    "        with pd.ExcelWriter(nametable) as writer:\n",
    "            df.to_excel(writer, sheet_name=\"all_result\", index=False)\n",
    "            dfgas_streams_zaryad.to_excel(writer, sheet_name=\"gas_streams_zaryad\", index=False)\n",
    "            dfwater_streams_zaryad.to_excel(writer, sheet_name=\"water_streams_zaryad\", index=False)\n",
    "            dfsyngas_streams_zaryad.to_excel(writer, sheet_name=\"syngas_streams_zaryad\", index=False)\n",
    "            dfelectric_zaryad.to_excel(writer, sheet_name=\"electric_zaryad\", index=False)\n",
    "            dfheaters_zaryad.to_excel(writer, sheet_name=\"heaters_zaryad\", index=False)\n",
    "            dfaccumulation_zaryad.to_excel(writer, sheet_name=\"accumulation_zaryad\", index=False)\n",
    "            dfgas_streams_razryad.to_excel(writer, sheet_name=\"gas_streams_razryad\", index=False)\n",
    "            dfwater_streams_razryad.to_excel(writer, sheet_name=\"water_streams_razryad\", index=False)\n",
    "            dfsyngas_streams_razryad.to_excel(writer, sheet_name=\"syngas_streams_razryad\", index=False)\n",
    "            dfelectric_razryad.to_excel(writer, sheet_name=\"electric_razryad\", index=False)\n",
    "            dfheaters_razryad.to_excel(writer, sheet_name=\"heaters_razryad\", index=False)\n",
    "            dfaccumulation_razryad.to_excel(writer, sheet_name=\"accumulation_razryad\", index=False)\n",
    "    \n"
   ]
  }
 ],
 "metadata": {
  "kernelspec": {
   "display_name": "Python 3 (ipykernel)",
   "language": "python",
   "name": "python3"
  },
  "language_info": {
   "codemirror_mode": {
    "name": "ipython",
    "version": 3
   },
   "file_extension": ".py",
   "mimetype": "text/x-python",
   "name": "python",
   "nbconvert_exporter": "python",
   "pygments_lexer": "ipython3",
   "version": "3.9.12"
  }
 },
 "nbformat": 4,
 "nbformat_minor": 5
}
