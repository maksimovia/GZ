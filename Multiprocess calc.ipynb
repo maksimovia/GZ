{
 "cells": [
  {
   "cell_type": "code",
   "execution_count": 1,
   "id": "4d9b4cec",
   "metadata": {
    "scrolled": true
   },
   "outputs": [],
   "source": [
    "from multiprocessing import Pool\n",
    "\n",
    "import ASWmultiprocess as PC\n",
    "\n",
    "if __name__ == \"__main__\":\n",
    "    \n",
    "    # \"Кнопки\"\n",
    "    t_air_list = [-29,-15, 0, 8, 15] # - температуры, при которых необходимо расчитать\n",
    "    s = len(t_air_list)# - длина списка температур\n",
    "    nagr_list = [1]# -нагрузки, при которых необходимо расчитать\n",
    "    sn = len(nagr_list)\n",
    "    \n",
    "    # Флаги\n",
    "    ASWbul = 0 #- 0- нет аккум 1- загрузка аккумулятора, 2- разгрузка аккумулятора\n",
    "    ASWatm = False\n",
    "    PKM_zaryad = False\n",
    "    Сalculate_minimum = True\n",
    "    Teplo = int(True)\n",
    "    # Вкл выкл заряд по ПКМ\n",
    "    PKM_zaryad = False\n",
    "\n",
    "    \n",
    "    #ASW konstruct parametr\n",
    "    Diametr = 6\n",
    "    Visota=10\n",
    "    kolichestvo=2\n",
    "    lambda_min_vata = 0.045\n",
    "    delta_min_vata = 0.1\n",
    "    vremya=4\n",
    "    vremyaojidaniya = 12\n",
    "\n",
    "    # Основные эффективности оборудования\n",
    "    KPD_PN = 0.8074\n",
    "    KPD_KN = 0.75\n",
    "    KPD_to = 0.99\n",
    "    KPD_SP = 0.99\n",
    "\n",
    "    # Параметры, отвечающие за процесс расчета\n",
    "    Calcmethod = \"hybr\"\n",
    "    Calctolerance = 10**-2\n",
    "    Maxiterations_KU_TU = 20\n",
    "    Maxiterations_cotel = 4\n",
    "    Maxiterations_turbine = 30\n",
    "\n",
    "    # Отбор пара высокго давления или доля или кг/с\n",
    "    steamVD_fraction_to_turbine = 1\n",
    "\n",
    "    #####################\n",
    "    \n",
    "    chunks = [\n",
    "        (\n",
    "            Diametr,  # Diametr - диаметр аккумулятора\n",
    "            kolichestvo,  # kolichestvo -  количество баков аккумуляторов\n",
    "            Visota,  # Visota - высота аккумулятора\n",
    "            lambda_min_vata,  # - lambda_min_vata теплопроводность изолятора бака аккумулятора\n",
    "            delta_min_vata,  # - delta_min_vata толщина изолятора бака аккумулятора\n",
    "            ASWbul,  # ASWbul - 1- загрузка аккумулятора, 2- разгрузка аккумулятора\n",
    "            nagr_list[j],  # nagr - доля нагрузки от номинала\n",
    "            vremya,  # vremya - время зарядки/разрядки аккумулятора\n",
    "            vremyaojidaniya,  # vremyaojidaniya - время ожидания аккумулятора\n",
    "            t_air_list[i],\n",
    "            PKM_zaryad,\n",
    "            Сalculate_minimum,\n",
    "            KPD_PN,\n",
    "            KPD_KN,\n",
    "            KPD_to,\n",
    "            KPD_SP,\n",
    "            Calcmethod,\n",
    "            Calctolerance,\n",
    "            Maxiterations_KU_TU,\n",
    "            Maxiterations_cotel,\n",
    "            Maxiterations_turbine,\n",
    "            Сalculate_minimum,\n",
    "            Teplo,\n",
    "            steamVD_fraction_to_turbine,\n",
    "            PKM_zaryad,\n",
    "            ASWatm,\n",
    "        )\n",
    "        for i in range(s)\n",
    "        for j in range(sn)\n",
    "    ]\n",
    "    \n",
    "    pool = Pool(processes=sn * s)\n",
    "    all_results = pool.map(PC.ParallelCompute, chunks)"
   ]
  },
  {
   "cell_type": "code",
   "execution_count": 2,
   "id": "5b2abbc9",
   "metadata": {
    "scrolled": true
   },
   "outputs": [
    {
     "name": "stdout",
     "output_type": "stream",
     "text": [
      "[{'T_air': -29, 'n_GTU': 1, 'GTU': 142.3361, 'GTU_KPD': 32.7617, 'Turbine': 43.0733, 'KN': 0.0406, 'DK': 6.2519, 'PEN': 2.6282, 'Turbine_Qt': 157.0125, 'ASW_Qt': nan}, {'T_air': -15, 'n_GTU': 1, 'GTU': 157.1386, 'GTU_KPD': 33.8554, 'Turbine': 50.8335, 'KN': 0.0405, 'DK': 6.2833, 'PEN': 1.2982, 'Turbine_Qt': 168.1316, 'ASW_Qt': nan}, {'T_air': 0, 'n_GTU': 1, 'GTU': 152.7091, 'GTU_KPD': 33.5938, 'Turbine': 55.9455, 'KN': 0.0404, 'DK': 6.2739, 'PEN': 1.0771, 'Turbine_Qt': 167.5741, 'ASW_Qt': nan}, {'T_air': 8, 'n_GTU': 1, 'GTU': 145.9107, 'GTU_KPD': 33.2815, 'Turbine': 55.4008, 'KN': 0.0404, 'DK': 6.2595, 'PEN': 1.266, 'Turbine_Qt': 166.7372, 'ASW_Qt': nan}, {'T_air': 15, 'n_GTU': 1, 'GTU': 140.2577, 'GTU_KPD': 32.9477, 'Turbine': 55.0532, 'KN': 0.0404, 'DK': 6.2475, 'PEN': 1.4753, 'Turbine_Qt': 164.3898, 'ASW_Qt': nan}]\n"
     ]
    }
   ],
   "source": [
    "import pandas as pd\n",
    "import openpyxl\n",
    "import os\n",
    "print(all_results)\n",
    "\n",
    "df = pd.DataFrame(all_results)\n",
    "df = df.T\n",
    "\n",
    "if ASWbul==1:\n",
    "    book = openpyxl.load_workbook('resdataASW.xlsx')\n",
    "    writer = pd.ExcelWriter('resdataASW.xlsx', engine='openpyxl') \n",
    "    writer.book = book\n",
    "    writer.sheets = dict((ws.title, ws) for ws in book.worksheets)\n",
    "    df = pd.DataFrame(all_results)\n",
    "    df.to_excel(writer, \"Зарядка\", startrow=0, startcol=0)\n",
    "    writer.save()\n",
    "if ASWbul==2:\n",
    "    book = openpyxl.load_workbook('resdataASW.xlsx')\n",
    "    writer = pd.ExcelWriter('resdataASW.xlsx', engine='openpyxl') \n",
    "    writer.book = book\n",
    "    writer.sheets = dict((ws.title, ws) for ws in book.worksheets)\n",
    "    df = pd.DataFrame(all_results)\n",
    "    df.to_excel(writer, \"Разрядка\", startrow=0, startcol=0)\n",
    "    writer.save()\n",
    "if ASWbul==0:\n",
    "    book = openpyxl.load_workbook('resdataASW.xlsx')\n",
    "    writer = pd.ExcelWriter('resdataASW.xlsx', engine='openpyxl') \n",
    "    writer.book = book\n",
    "    writer.sheets = dict((ws.title, ws) for ws in book.worksheets)\n",
    "    df = pd.DataFrame(all_results)\n",
    "    df.to_excel(writer, \"нетаккум\", startrow=0, startcol=0)\n",
    "    writer.save()"
   ]
  },
  {
   "cell_type": "code",
   "execution_count": 5,
   "id": "3533334d",
   "metadata": {},
   "outputs": [
    {
     "name": "stdout",
     "output_type": "stream",
     "text": [
      "504.3750257054493 hpr_sv\n",
      "189.30032512834947 hobr_sv\n",
      "398.1007015109759 h_ASW\n"
     ]
    },
    {
     "data": {
      "text/plain": [
       "array([6.62701182, 3.37298818])"
      ]
     },
     "execution_count": 5,
     "metadata": {},
     "output_type": "execute_result"
    }
   ],
   "source": [
    "import mat_properties as prop\n",
    "gasmix = \"Nitrogen*Oxygen*CO2*Water*Argon\"\n",
    "import numpy as np\n",
    "from numpy import linalg as LA\n",
    "\n",
    "RP = prop.init_REFPROP(r\"C:\\Program Files (x86)\\REFPROP\")\n",
    "water = prop.Materials_prop(\n",
    "    \"water\",\n",
    "    [1.0, 0, 0, 0, 0],\n",
    "    prop.REFPROP_h_s,\n",
    "    prop.REFPROP_p_t,\n",
    "    prop.REFPROP_p_h,\n",
    "    prop.REFPROP_p_s,\n",
    "    prop.REFPROP_p_q,\n",
    "    prop.REFPROP_t_q,\n",
    "    prop.REFPROP_p_rho,\n",
    "    prop.REFPROP_s_q,\n",
    "    RP=RP,\n",
    ")\n",
    "Tpr_sv = 120\n",
    "Tobr_sv=45\n",
    "T_ASW=95\n",
    "P_ASW=0.1\n",
    "P_pr_sv = 1\n",
    "\n",
    "G_ASW= 10\n",
    "\n",
    "hpr_sv = water.p_t(P_pr_sv, Tpr_sv)['h']\n",
    "print(hpr_sv,'hpr_sv')\n",
    "hobr_sv = water.p_t(P_pr_sv, Tobr_sv)['h']\n",
    "print(hobr_sv,'hobr_sv')\n",
    "h_ASW = water.p_t(P_ASW, T_ASW)['h']\n",
    "print(h_ASW,'h_ASW')\n",
    "\n",
    "a = [[1, 1],\n",
    "     [1*hpr_sv, 1*hobr_sv]]\n",
    "\n",
    "b = [G_ASW, G_ASW*h_ASW]\n",
    "\n",
    "x = LA.solve(a, b)\n",
    "x\n"
   ]
  },
  {
   "cell_type": "code",
   "execution_count": null,
   "id": "0cf1af21",
   "metadata": {},
   "outputs": [],
   "source": []
  }
 ],
 "metadata": {
  "kernelspec": {
   "display_name": "Python 3 (ipykernel)",
   "language": "python",
   "name": "python3"
  },
  "language_info": {
   "codemirror_mode": {
    "name": "ipython",
    "version": 3
   },
   "file_extension": ".py",
   "mimetype": "text/x-python",
   "name": "python",
   "nbconvert_exporter": "python",
   "pygments_lexer": "ipython3",
   "version": "3.9.12"
  }
 },
 "nbformat": 4,
 "nbformat_minor": 5
}
